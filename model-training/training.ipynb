{
 "cells": [
  {
   "cell_type": "markdown",
   "id": "9f5d0951-89fd-4e32-b831-c653c25b4e44",
   "metadata": {},
   "source": [
    "# The Training Session"
   ]
  },
  {
   "cell_type": "markdown",
   "id": "ac57d8fe-e4b6-48d2-a17d-8366d523cf9b",
   "metadata": {},
   "source": [
    "This session will consist of the training process. It will not have too much EDA and data preprocessing parts, as I did the preprocessing inside the model to save time"
   ]
  },
  {
   "cell_type": "markdown",
   "id": "73d22d03-ccfd-4844-9193-6bbb2505c4a0",
   "metadata": {},
   "source": [
    "I will create a collaborative filtering model that relies on users past interactions which are stored in their respective embedding."
   ]
  },
  {
   "cell_type": "code",
   "execution_count": 82,
   "id": "08f9d79b-c8a6-4eff-9881-3db12262cb49",
   "metadata": {},
   "outputs": [],
   "source": [
    "import pandas as pd"
   ]
  },
  {
   "cell_type": "code",
   "execution_count": 83,
   "id": "27c02ec1-2914-4b8d-b318-bc9c68d3f109",
   "metadata": {},
   "outputs": [],
   "source": [
    "customer_interactions = pd.read_csv('customer_interactions.csv')\n",
    "purchase_history = pd.read_csv('purchase_history.csv')\n",
    "product_details = pd.read_csv('product_details.csv')"
   ]
  },
  {
   "cell_type": "code",
   "execution_count": 84,
   "id": "deb86002-bc0a-4523-a367-0099c0b38d78",
   "metadata": {},
   "outputs": [
    {
     "name": "stdout",
     "output_type": "stream",
     "text": [
      "<class 'pandas.core.frame.DataFrame'>\n",
      "RangeIndex: 87229 entries, 0 to 87228\n",
      "Data columns (total 4 columns):\n",
      " #   Column        Non-Null Count  Dtype  \n",
      "---  ------        --------------  -----  \n",
      " 0   user_id       87229 non-null  int64  \n",
      " 1   page_views    87229 non-null  int64  \n",
      " 2   session_time  87229 non-null  float64\n",
      " 3   session_id    87229 non-null  object \n",
      "dtypes: float64(1), int64(2), object(1)\n",
      "memory usage: 2.7+ MB\n"
     ]
    }
   ],
   "source": [
    "customer_interactions.info()"
   ]
  },
  {
   "cell_type": "code",
   "execution_count": 85,
   "id": "b1f6105a-3b64-4261-85c4-98e98dcf5f60",
   "metadata": {},
   "outputs": [
    {
     "name": "stdout",
     "output_type": "stream",
     "text": [
      "<class 'pandas.core.frame.DataFrame'>\n",
      "RangeIndex: 276761 entries, 0 to 276760\n",
      "Data columns (total 5 columns):\n",
      " #   Column         Non-Null Count   Dtype \n",
      "---  ------         --------------   ----- \n",
      " 0   user_id        276761 non-null  int64 \n",
      " 1   product_id     276761 non-null  int64 \n",
      " 2   session_id     276761 non-null  object\n",
      " 3   purchase_date  276761 non-null  object\n",
      " 4   purchased      276761 non-null  int64 \n",
      "dtypes: int64(3), object(2)\n",
      "memory usage: 10.6+ MB\n"
     ]
    }
   ],
   "source": [
    "purchase_history.info()"
   ]
  },
  {
   "cell_type": "code",
   "execution_count": 86,
   "id": "d7b04acc-d167-4598-be4c-eb79380f4791",
   "metadata": {},
   "outputs": [
    {
     "name": "stdout",
     "output_type": "stream",
     "text": [
      "<class 'pandas.core.frame.DataFrame'>\n",
      "RangeIndex: 52230 entries, 0 to 52229\n",
      "Data columns (total 3 columns):\n",
      " #   Column       Non-Null Count  Dtype  \n",
      "---  ------       --------------  -----  \n",
      " 0   product_id   52230 non-null  int64  \n",
      " 1   category_id  52230 non-null  int64  \n",
      " 2   price        52230 non-null  float64\n",
      "dtypes: float64(1), int64(2)\n",
      "memory usage: 1.2 MB\n"
     ]
    }
   ],
   "source": [
    "product_details.info()"
   ]
  },
  {
   "cell_type": "code",
   "execution_count": 87,
   "id": "2c5e17e4-46dd-49fe-a491-448175b416ba",
   "metadata": {},
   "outputs": [
    {
     "data": {
      "text/plain": [
       "purchased\n",
       "0    269535\n",
       "1      7226\n",
       "Name: count, dtype: int64"
      ]
     },
     "execution_count": 87,
     "metadata": {},
     "output_type": "execute_result"
    }
   ],
   "source": [
    "purchase_history.purchased.value_counts()"
   ]
  },
  {
   "cell_type": "markdown",
   "id": "edb93906-9b29-4f6e-a325-4548b932adf6",
   "metadata": {},
   "source": [
    "I would need to handle this imbalanced label later"
   ]
  },
  {
   "cell_type": "markdown",
   "id": "2430dc24-3dbb-4907-a92a-e70449f23924",
   "metadata": {},
   "source": [
    "# Data Preparation"
   ]
  },
  {
   "cell_type": "markdown",
   "id": "89d306e0-3b4e-4f1c-b4ad-28ef63e4ac08",
   "metadata": {},
   "source": [
    "### Feature Engineering"
   ]
  },
  {
   "cell_type": "markdown",
   "id": "16c22ef1-8b3f-4638-95c3-23b5b60d72f7",
   "metadata": {},
   "source": [
    "First I merged all 3 tables I created in the previous notebook."
   ]
  },
  {
   "cell_type": "code",
   "execution_count": 88,
   "id": "75d14711-52cb-44c4-8867-a8d9e8fe58f8",
   "metadata": {},
   "outputs": [
    {
     "data": {
      "text/html": [
       "<div>\n",
       "<style scoped>\n",
       "    .dataframe tbody tr th:only-of-type {\n",
       "        vertical-align: middle;\n",
       "    }\n",
       "\n",
       "    .dataframe tbody tr th {\n",
       "        vertical-align: top;\n",
       "    }\n",
       "\n",
       "    .dataframe thead th {\n",
       "        text-align: right;\n",
       "    }\n",
       "</style>\n",
       "<table border=\"1\" class=\"dataframe\">\n",
       "  <thead>\n",
       "    <tr style=\"text-align: right;\">\n",
       "      <th></th>\n",
       "      <th>user_id</th>\n",
       "      <th>product_id</th>\n",
       "      <th>session_id</th>\n",
       "      <th>purchase_date</th>\n",
       "      <th>purchased</th>\n",
       "      <th>page_views</th>\n",
       "      <th>session_time</th>\n",
       "      <th>category_id</th>\n",
       "      <th>price</th>\n",
       "    </tr>\n",
       "  </thead>\n",
       "  <tbody>\n",
       "    <tr>\n",
       "      <th>0</th>\n",
       "      <td>512749724</td>\n",
       "      <td>1000978</td>\n",
       "      <td>21db6fe3-b667-40cc-acde-63c0861c8bac</td>\n",
       "      <td>2019-10-31 08:49:59+00:00</td>\n",
       "      <td>0</td>\n",
       "      <td>7</td>\n",
       "      <td>1121.0</td>\n",
       "      <td>2053013555631882655</td>\n",
       "      <td>307.192</td>\n",
       "    </tr>\n",
       "    <tr>\n",
       "      <th>1</th>\n",
       "      <td>551539729</td>\n",
       "      <td>1000978</td>\n",
       "      <td>259156cd-39ce-4b52-be5c-112e82944cd7</td>\n",
       "      <td>2019-10-30 13:20:56+00:00</td>\n",
       "      <td>0</td>\n",
       "      <td>7</td>\n",
       "      <td>196.0</td>\n",
       "      <td>2053013555631882655</td>\n",
       "      <td>307.192</td>\n",
       "    </tr>\n",
       "    <tr>\n",
       "      <th>2</th>\n",
       "      <td>512641002</td>\n",
       "      <td>1000978</td>\n",
       "      <td>268cc02f-2c57-493e-8514-ea6ab50e3b1b</td>\n",
       "      <td>2019-10-27 03:22:27+00:00</td>\n",
       "      <td>0</td>\n",
       "      <td>2</td>\n",
       "      <td>87.0</td>\n",
       "      <td>2053013555631882655</td>\n",
       "      <td>307.192</td>\n",
       "    </tr>\n",
       "    <tr>\n",
       "      <th>3</th>\n",
       "      <td>551539729</td>\n",
       "      <td>1000978</td>\n",
       "      <td>40fee886-f23b-4025-be2b-286f05fbdc78</td>\n",
       "      <td>2019-10-25 14:05:42+00:00</td>\n",
       "      <td>0</td>\n",
       "      <td>16</td>\n",
       "      <td>653.0</td>\n",
       "      <td>2053013555631882655</td>\n",
       "      <td>307.192</td>\n",
       "    </tr>\n",
       "    <tr>\n",
       "      <th>4</th>\n",
       "      <td>529216566</td>\n",
       "      <td>1000978</td>\n",
       "      <td>5331aada-6a85-402a-bfe3-21976b6d1c2a</td>\n",
       "      <td>2019-10-22 15:30:31+00:00</td>\n",
       "      <td>0</td>\n",
       "      <td>18</td>\n",
       "      <td>381.0</td>\n",
       "      <td>2053013555631882655</td>\n",
       "      <td>307.192</td>\n",
       "    </tr>\n",
       "    <tr>\n",
       "      <th>...</th>\n",
       "      <td>...</td>\n",
       "      <td>...</td>\n",
       "      <td>...</td>\n",
       "      <td>...</td>\n",
       "      <td>...</td>\n",
       "      <td>...</td>\n",
       "      <td>...</td>\n",
       "      <td>...</td>\n",
       "      <td>...</td>\n",
       "    </tr>\n",
       "    <tr>\n",
       "      <th>276755</th>\n",
       "      <td>512694680</td>\n",
       "      <td>60500002</td>\n",
       "      <td>2c48e74e-d100-4fd3-bc03-1f73f56ad592</td>\n",
       "      <td>2019-10-27 05:29:17+00:00</td>\n",
       "      <td>0</td>\n",
       "      <td>11</td>\n",
       "      <td>1075.0</td>\n",
       "      <td>2162513070503494350</td>\n",
       "      <td>42.190</td>\n",
       "    </tr>\n",
       "    <tr>\n",
       "      <th>276756</th>\n",
       "      <td>512684520</td>\n",
       "      <td>60500002</td>\n",
       "      <td>958883de-b352-4219-81b9-5b819d3d7810</td>\n",
       "      <td>2019-10-30 17:23:43+00:00</td>\n",
       "      <td>0</td>\n",
       "      <td>4</td>\n",
       "      <td>85.0</td>\n",
       "      <td>2162513070503494350</td>\n",
       "      <td>42.190</td>\n",
       "    </tr>\n",
       "    <tr>\n",
       "      <th>276757</th>\n",
       "      <td>519178692</td>\n",
       "      <td>60500002</td>\n",
       "      <td>b48fd7f4-2225-4a87-9823-dbf33edcb250</td>\n",
       "      <td>2019-10-30 18:12:11+00:00</td>\n",
       "      <td>0</td>\n",
       "      <td>3</td>\n",
       "      <td>140.0</td>\n",
       "      <td>2162513070503494350</td>\n",
       "      <td>42.190</td>\n",
       "    </tr>\n",
       "    <tr>\n",
       "      <th>276758</th>\n",
       "      <td>516187142</td>\n",
       "      <td>60500002</td>\n",
       "      <td>eceb3971-a847-41b0-9600-73a847792af0</td>\n",
       "      <td>2019-10-25 15:11:18+00:00</td>\n",
       "      <td>0</td>\n",
       "      <td>30</td>\n",
       "      <td>1849.0</td>\n",
       "      <td>2162513070503494350</td>\n",
       "      <td>42.190</td>\n",
       "    </tr>\n",
       "    <tr>\n",
       "      <th>276759</th>\n",
       "      <td>513411503</td>\n",
       "      <td>60500007</td>\n",
       "      <td>e6351225-75b4-4a76-9217-a2b4e6152214</td>\n",
       "      <td>2019-10-25 13:39:13+00:00</td>\n",
       "      <td>0</td>\n",
       "      <td>49</td>\n",
       "      <td>8232.0</td>\n",
       "      <td>2162513070503494350</td>\n",
       "      <td>0.000</td>\n",
       "    </tr>\n",
       "  </tbody>\n",
       "</table>\n",
       "<p>276760 rows × 9 columns</p>\n",
       "</div>"
      ],
      "text/plain": [
       "          user_id  product_id                            session_id  \\\n",
       "0       512749724     1000978  21db6fe3-b667-40cc-acde-63c0861c8bac   \n",
       "1       551539729     1000978  259156cd-39ce-4b52-be5c-112e82944cd7   \n",
       "2       512641002     1000978  268cc02f-2c57-493e-8514-ea6ab50e3b1b   \n",
       "3       551539729     1000978  40fee886-f23b-4025-be2b-286f05fbdc78   \n",
       "4       529216566     1000978  5331aada-6a85-402a-bfe3-21976b6d1c2a   \n",
       "...           ...         ...                                   ...   \n",
       "276755  512694680    60500002  2c48e74e-d100-4fd3-bc03-1f73f56ad592   \n",
       "276756  512684520    60500002  958883de-b352-4219-81b9-5b819d3d7810   \n",
       "276757  519178692    60500002  b48fd7f4-2225-4a87-9823-dbf33edcb250   \n",
       "276758  516187142    60500002  eceb3971-a847-41b0-9600-73a847792af0   \n",
       "276759  513411503    60500007  e6351225-75b4-4a76-9217-a2b4e6152214   \n",
       "\n",
       "                    purchase_date  purchased  page_views  session_time  \\\n",
       "0       2019-10-31 08:49:59+00:00          0           7        1121.0   \n",
       "1       2019-10-30 13:20:56+00:00          0           7         196.0   \n",
       "2       2019-10-27 03:22:27+00:00          0           2          87.0   \n",
       "3       2019-10-25 14:05:42+00:00          0          16         653.0   \n",
       "4       2019-10-22 15:30:31+00:00          0          18         381.0   \n",
       "...                           ...        ...         ...           ...   \n",
       "276755  2019-10-27 05:29:17+00:00          0          11        1075.0   \n",
       "276756  2019-10-30 17:23:43+00:00          0           4          85.0   \n",
       "276757  2019-10-30 18:12:11+00:00          0           3         140.0   \n",
       "276758  2019-10-25 15:11:18+00:00          0          30        1849.0   \n",
       "276759  2019-10-25 13:39:13+00:00          0          49        8232.0   \n",
       "\n",
       "                category_id    price  \n",
       "0       2053013555631882655  307.192  \n",
       "1       2053013555631882655  307.192  \n",
       "2       2053013555631882655  307.192  \n",
       "3       2053013555631882655  307.192  \n",
       "4       2053013555631882655  307.192  \n",
       "...                     ...      ...  \n",
       "276755  2162513070503494350   42.190  \n",
       "276756  2162513070503494350   42.190  \n",
       "276757  2162513070503494350   42.190  \n",
       "276758  2162513070503494350   42.190  \n",
       "276759  2162513070503494350    0.000  \n",
       "\n",
       "[276760 rows x 9 columns]"
      ]
     },
     "execution_count": 88,
     "metadata": {},
     "output_type": "execute_result"
    }
   ],
   "source": [
    "data = purchase_history.merge(customer_interactions)\n",
    "data = data.merge(product_details)\n",
    "data"
   ]
  },
  {
   "cell_type": "code",
   "execution_count": 89,
   "id": "feabb59a-44f5-4249-9910-560e69363371",
   "metadata": {},
   "outputs": [],
   "source": [
    "data['user_id'] = data['user_id'].astype(int)\n",
    "data['product_id'] = data['product_id'].astype(int)"
   ]
  },
  {
   "cell_type": "markdown",
   "id": "b1504022-e399-4048-9860-f2384a415e2c",
   "metadata": {},
   "source": [
    "### Downsampling"
   ]
  },
  {
   "cell_type": "code",
   "execution_count": 91,
   "id": "0b07f0f4-fd70-4f7e-a791-eff89a37da36",
   "metadata": {},
   "outputs": [
    {
     "data": {
      "text/plain": [
       "purchased\n",
       "0    0.973891\n",
       "1    0.026109\n",
       "Name: count, dtype: float64"
      ]
     },
     "execution_count": 91,
     "metadata": {},
     "output_type": "execute_result"
    }
   ],
   "source": [
    "data.purchased.value_counts()/len(data)"
   ]
  },
  {
   "cell_type": "markdown",
   "id": "d3dfe5ee-90b6-49f7-b288-a84e82d33a34",
   "metadata": {},
   "source": [
    "I tried to downsample the labels. But as you can see, the **purchased** label makes up only 2% of the dataset. To downsample, means not using most of the dataset. So I will abandon this attempt."
   ]
  },
  {
   "cell_type": "code",
   "execution_count": 23,
   "id": "2db56137-8234-4d27-9d94-19138ec509c5",
   "metadata": {},
   "outputs": [],
   "source": [
    "from sklearn.utils import resample\n",
    "\n",
    "data_majority = data[data['purchased'] == 0]\n",
    "data_minority = data[data['purchased'] == 1]\n",
    "\n",
    "# Downsample majority class\n",
    "data_majority_downsampled = resample(data_majority, \n",
    "                                   n_samples=len(data_minority)) # Match minority class size\n",
    "\n",
    "# Combine downsampled majority with minority\n",
    "data_downsampled = pd.concat([data_minority, data_majority_downsampled])"
   ]
  },
  {
   "cell_type": "markdown",
   "id": "c47bbce4-21f2-4c0f-8cfa-804889ebd901",
   "metadata": {},
   "source": [
    "### Data Splitting"
   ]
  },
  {
   "cell_type": "markdown",
   "id": "aea10c60-9e95-4067-aa3c-2888c7aa3d43",
   "metadata": {},
   "source": [
    "As a good law abiding citizen, I splitted my dataset accordingly."
   ]
  },
  {
   "cell_type": "code",
   "execution_count": 24,
   "id": "4c7d2f5d-8a64-44ae-82ee-a0e049fded1a",
   "metadata": {},
   "outputs": [],
   "source": [
    "from sklearn.model_selection import train_test_split\n",
    "\n",
    "train, test = train_test_split(data, test_size=0.2)"
   ]
  },
  {
   "cell_type": "code",
   "execution_count": 25,
   "id": "12b1be3e-2336-430b-84e2-a3f8ac3021e7",
   "metadata": {},
   "outputs": [
    {
     "name": "stdout",
     "output_type": "stream",
     "text": [
      "(221408, 9)\n",
      "(55352, 9)\n"
     ]
    }
   ],
   "source": [
    "print(train.shape)\n",
    "print(test.shape)"
   ]
  },
  {
   "cell_type": "code",
   "execution_count": 26,
   "id": "be1c45ad-75ab-41ad-9cb5-175fcf543711",
   "metadata": {},
   "outputs": [
    {
     "data": {
      "text/html": [
       "<div>\n",
       "<style scoped>\n",
       "    .dataframe tbody tr th:only-of-type {\n",
       "        vertical-align: middle;\n",
       "    }\n",
       "\n",
       "    .dataframe tbody tr th {\n",
       "        vertical-align: top;\n",
       "    }\n",
       "\n",
       "    .dataframe thead th {\n",
       "        text-align: right;\n",
       "    }\n",
       "</style>\n",
       "<table border=\"1\" class=\"dataframe\">\n",
       "  <thead>\n",
       "    <tr style=\"text-align: right;\">\n",
       "      <th></th>\n",
       "      <th>user_id</th>\n",
       "      <th>product_id</th>\n",
       "      <th>session_id</th>\n",
       "      <th>purchase_date</th>\n",
       "      <th>purchased</th>\n",
       "      <th>page_views</th>\n",
       "      <th>session_time</th>\n",
       "      <th>category_id</th>\n",
       "      <th>price</th>\n",
       "    </tr>\n",
       "  </thead>\n",
       "  <tbody>\n",
       "    <tr>\n",
       "      <th>163495</th>\n",
       "      <td>515972325</td>\n",
       "      <td>12400024</td>\n",
       "      <td>a009d11f-d453-40b5-a7f5-b6c5c66c60e9</td>\n",
       "      <td>2019-10-14 14:46:00+00:00</td>\n",
       "      <td>0</td>\n",
       "      <td>1</td>\n",
       "      <td>0.0</td>\n",
       "      <td>2053013556252639687</td>\n",
       "      <td>161.888276</td>\n",
       "    </tr>\n",
       "    <tr>\n",
       "      <th>245858</th>\n",
       "      <td>512598759</td>\n",
       "      <td>28714357</td>\n",
       "      <td>c4cbd815-bfc3-4a33-9078-4c0b9721ef0a</td>\n",
       "      <td>2019-10-17 07:21:08+00:00</td>\n",
       "      <td>0</td>\n",
       "      <td>10</td>\n",
       "      <td>194.0</td>\n",
       "      <td>2053013565069067197</td>\n",
       "      <td>155.710000</td>\n",
       "    </tr>\n",
       "    <tr>\n",
       "      <th>165746</th>\n",
       "      <td>555008988</td>\n",
       "      <td>12700948</td>\n",
       "      <td>1718e852-9763-4e87-afcd-84fdf38c4e7a</td>\n",
       "      <td>2019-10-01 03:13:47+00:00</td>\n",
       "      <td>0</td>\n",
       "      <td>11</td>\n",
       "      <td>236.0</td>\n",
       "      <td>2053013553559896355</td>\n",
       "      <td>125.570000</td>\n",
       "    </tr>\n",
       "    <tr>\n",
       "      <th>90960</th>\n",
       "      <td>515697242</td>\n",
       "      <td>2702349</td>\n",
       "      <td>061b50b1-5bd0-4ecb-acc8-816e39aae784</td>\n",
       "      <td>2019-10-02 03:32:02+00:00</td>\n",
       "      <td>0</td>\n",
       "      <td>5</td>\n",
       "      <td>402.0</td>\n",
       "      <td>2053013563911439225</td>\n",
       "      <td>605.259583</td>\n",
       "    </tr>\n",
       "    <tr>\n",
       "      <th>74718</th>\n",
       "      <td>530834332</td>\n",
       "      <td>1307484</td>\n",
       "      <td>eada204d-8973-41a6-a030-6a6a601ceee8</td>\n",
       "      <td>2019-10-21 08:52:26+00:00</td>\n",
       "      <td>0</td>\n",
       "      <td>23</td>\n",
       "      <td>599.0</td>\n",
       "      <td>2053013558920217191</td>\n",
       "      <td>1042.240000</td>\n",
       "    </tr>\n",
       "  </tbody>\n",
       "</table>\n",
       "</div>"
      ],
      "text/plain": [
       "          user_id  product_id                            session_id  \\\n",
       "163495  515972325    12400024  a009d11f-d453-40b5-a7f5-b6c5c66c60e9   \n",
       "245858  512598759    28714357  c4cbd815-bfc3-4a33-9078-4c0b9721ef0a   \n",
       "165746  555008988    12700948  1718e852-9763-4e87-afcd-84fdf38c4e7a   \n",
       "90960   515697242     2702349  061b50b1-5bd0-4ecb-acc8-816e39aae784   \n",
       "74718   530834332     1307484  eada204d-8973-41a6-a030-6a6a601ceee8   \n",
       "\n",
       "                    purchase_date  purchased  page_views  session_time  \\\n",
       "163495  2019-10-14 14:46:00+00:00          0           1           0.0   \n",
       "245858  2019-10-17 07:21:08+00:00          0          10         194.0   \n",
       "165746  2019-10-01 03:13:47+00:00          0          11         236.0   \n",
       "90960   2019-10-02 03:32:02+00:00          0           5         402.0   \n",
       "74718   2019-10-21 08:52:26+00:00          0          23         599.0   \n",
       "\n",
       "                category_id        price  \n",
       "163495  2053013556252639687   161.888276  \n",
       "245858  2053013565069067197   155.710000  \n",
       "165746  2053013553559896355   125.570000  \n",
       "90960   2053013563911439225   605.259583  \n",
       "74718   2053013558920217191  1042.240000  "
      ]
     },
     "execution_count": 26,
     "metadata": {},
     "output_type": "execute_result"
    }
   ],
   "source": [
    "train.head()"
   ]
  },
  {
   "cell_type": "markdown",
   "id": "53590a35-134b-4699-a844-e7651fe872ea",
   "metadata": {},
   "source": [
    "### WandB Setup"
   ]
  },
  {
   "cell_type": "markdown",
   "id": "d7d76976-f1e1-453a-ab82-ba4ca2369c29",
   "metadata": {},
   "source": [
    "As a good law abiding ML Engineer, I always track my training session. As most chaos happens here, where many people lost their mind finding the true best hyperparameters and architecture. All just to get 0.2% better validation results."
   ]
  },
  {
   "cell_type": "code",
   "execution_count": 92,
   "id": "47b512dd-a42d-43cd-8ce1-ffc2f3fd676d",
   "metadata": {
    "scrolled": true
   },
   "outputs": [],
   "source": [
    "# !pip install wandb"
   ]
  },
  {
   "cell_type": "code",
   "execution_count": 93,
   "id": "781d9e94-df84-4019-91de-9a9e186cf33c",
   "metadata": {},
   "outputs": [
    {
     "name": "stderr",
     "output_type": "stream",
     "text": [
      "wandb: Currently logged in as: manfredmichael (nodeflux-internship). Use `wandb login --relogin` to force relogin\n"
     ]
    }
   ],
   "source": [
    "!wandb login "
   ]
  },
  {
   "cell_type": "markdown",
   "id": "e2b8db39-155b-4e8c-a0e1-e88e1a99a7a2",
   "metadata": {},
   "source": [
    "**Note:** I will include the WandB session url in the readme too"
   ]
  },
  {
   "cell_type": "code",
   "execution_count": 95,
   "id": "7506f760-feff-4418-95a8-e71bb4dabd64",
   "metadata": {},
   "outputs": [
    {
     "data": {
      "text/html": [
       "Finishing last run (ID:mphx8z1n) before initializing another..."
      ],
      "text/plain": [
       "<IPython.core.display.HTML object>"
      ]
     },
     "metadata": {},
     "output_type": "display_data"
    },
    {
     "data": {
      "text/html": [
       "W&B sync reduced upload amount by 36.4%             "
      ],
      "text/plain": [
       "<IPython.core.display.HTML object>"
      ]
     },
     "metadata": {},
     "output_type": "display_data"
    },
    {
     "data": {
      "text/html": [
       " View run <strong style=\"color:#cdcd00\">major-voice-27</strong> at: <a href='https://wandb.ai/nodeflux-internship/tech-assessment-recsyc/runs/mphx8z1n' target=\"_blank\">https://wandb.ai/nodeflux-internship/tech-assessment-recsyc/runs/mphx8z1n</a><br/> View job at <a href='https://wandb.ai/nodeflux-internship/tech-assessment-recsyc/jobs/QXJ0aWZhY3RDb2xsZWN0aW9uOjE0NTE0Mjk2MQ==/version_details/v3' target=\"_blank\">https://wandb.ai/nodeflux-internship/tech-assessment-recsyc/jobs/QXJ0aWZhY3RDb2xsZWN0aW9uOjE0NTE0Mjk2MQ==/version_details/v3</a><br/>Synced 4 W&B file(s), 0 media file(s), 2 artifact file(s) and 0 other file(s)"
      ],
      "text/plain": [
       "<IPython.core.display.HTML object>"
      ]
     },
     "metadata": {},
     "output_type": "display_data"
    },
    {
     "data": {
      "text/html": [
       "Find logs at: <code>.\\wandb\\run-20240304_153619-mphx8z1n\\logs</code>"
      ],
      "text/plain": [
       "<IPython.core.display.HTML object>"
      ]
     },
     "metadata": {},
     "output_type": "display_data"
    },
    {
     "data": {
      "text/html": [
       "Successfully finished last run (ID:mphx8z1n). Initializing new run:<br/>"
      ],
      "text/plain": [
       "<IPython.core.display.HTML object>"
      ]
     },
     "metadata": {},
     "output_type": "display_data"
    },
    {
     "data": {
      "text/html": [
       "Tracking run with wandb version 0.16.3"
      ],
      "text/plain": [
       "<IPython.core.display.HTML object>"
      ]
     },
     "metadata": {},
     "output_type": "display_data"
    },
    {
     "data": {
      "text/html": [
       "Run data is saved locally in <code>C:\\Users\\manfr\\Projects\\skilvul-test\\model-training\\wandb\\run-20240304_153657-hy5pv7zl</code>"
      ],
      "text/plain": [
       "<IPython.core.display.HTML object>"
      ]
     },
     "metadata": {},
     "output_type": "display_data"
    },
    {
     "data": {
      "text/html": [
       "Syncing run <strong><a href='https://wandb.ai/nodeflux-internship/tech-assessment-recsyc/runs/hy5pv7zl' target=\"_blank\">rare-dawn-28</a></strong> to <a href='https://wandb.ai/nodeflux-internship/tech-assessment-recsyc' target=\"_blank\">Weights & Biases</a> (<a href='https://wandb.me/run' target=\"_blank\">docs</a>)<br/>"
      ],
      "text/plain": [
       "<IPython.core.display.HTML object>"
      ]
     },
     "metadata": {},
     "output_type": "display_data"
    },
    {
     "data": {
      "text/html": [
       " View project at <a href='https://wandb.ai/nodeflux-internship/tech-assessment-recsyc' target=\"_blank\">https://wandb.ai/nodeflux-internship/tech-assessment-recsyc</a>"
      ],
      "text/plain": [
       "<IPython.core.display.HTML object>"
      ]
     },
     "metadata": {},
     "output_type": "display_data"
    },
    {
     "data": {
      "text/html": [
       " View run at <a href='https://wandb.ai/nodeflux-internship/tech-assessment-recsyc/runs/hy5pv7zl' target=\"_blank\">https://wandb.ai/nodeflux-internship/tech-assessment-recsyc/runs/hy5pv7zl</a>"
      ],
      "text/plain": [
       "<IPython.core.display.HTML object>"
      ]
     },
     "metadata": {},
     "output_type": "display_data"
    }
   ],
   "source": [
    "import wandb\n",
    "import random\n",
    "from wandb.keras import WandbMetricsLogger, WandbModelCheckpoint\n",
    "\n",
    "from tensorflow.keras.optimizers import Adam\n",
    "\n",
    "wandb.init(\n",
    "    # set the wandb project where this run will be logged\n",
    "    project=\"tech-assessment-recsyc\",\n",
    "\n",
    "    # track hyperparameters and run metadata with wandb.config\n",
    "    config={\n",
    "        \"desc\": \"with session context + category embedding + class weights\",\n",
    "        \"embedding\": 16,\n",
    "        \"dropout\": 0.1,\n",
    "        \"num_of_deep_layers\": 4,\n",
    "        \"l2\": 0.000\n",
    "    }\n",
    ")\n",
    "\n",
    "config = wandb.config"
   ]
  },
  {
   "cell_type": "markdown",
   "id": "7d915ec6-af23-4a36-b129-372fa5d6828a",
   "metadata": {},
   "source": [
    "### Model Building"
   ]
  },
  {
   "cell_type": "markdown",
   "id": "136e1741-ae21-47cc-be13-d0b728b0aebc",
   "metadata": {},
   "source": [
    "Yes, I chose tensorflow to train this ranking model. It results in headache for the last 3 days, and I was traumatized for life. \n",
    "\n",
    "As a certified Tensorflow Developer, I hate Tensorflow."
   ]
  },
  {
   "cell_type": "code",
   "execution_count": 96,
   "id": "8d37d575-2562-426d-8940-b82c7a3fab73",
   "metadata": {},
   "outputs": [],
   "source": [
    "import numpy as np\n",
    "import tensorflow as tf\n",
    "# import tensorflow_datasets as tfds\n",
    "\n",
    "import tensorflow_recommenders as tfrs"
   ]
  },
  {
   "cell_type": "markdown",
   "id": "dd411e47-c0e8-4bb3-8567-7e333d076f36",
   "metadata": {},
   "source": [
    "Here, I took all unique list of user & product ids, and also categories. These features will be converted into embedding inside the model."
   ]
  },
  {
   "cell_type": "code",
   "execution_count": 98,
   "id": "0ae4044a-1459-43ea-89b6-23860fed0ccd",
   "metadata": {},
   "outputs": [
    {
     "name": "stdout",
     "output_type": "stream",
     "text": [
      "num of users: 10000\n",
      "num of products: 52229\n",
      "num of categories: 593\n"
     ]
    }
   ],
   "source": [
    "n_products = data.product_id.nunique()\n",
    "n_users = data.user_id.nunique()\n",
    "n_category =  data.category_id.nunique()\n",
    "\n",
    "unique_products = list(data.product_id.unique())\n",
    "unique_users = list(data.user_id.unique())\n",
    "unique_category = list(data.category_id.unique())\n",
    "\n",
    "print('num of users:', n_users)\n",
    "print('num of products:', n_products)\n",
    "print('num of categories:', n_category)"
   ]
  },
  {
   "cell_type": "markdown",
   "id": "e8c90162-6085-45c7-9b71-5b988a634812",
   "metadata": {},
   "source": [
    "I used wide and deep architecture that will take all embeddings. At the end of the network, I modified the wide and deep arch to also take the session context which consist of:\n",
    "* page_views\n",
    "* user_input\n",
    "* session_time\n"
   ]
  },
  {
   "cell_type": "code",
   "execution_count": 99,
   "id": "de4462ac-3e1f-46a5-a11e-543c15f964a3",
   "metadata": {},
   "outputs": [],
   "source": [
    "from tensorflow.keras.models import Model, Sequential \n",
    "from tensorflow.keras.layers import Input, Embedding, Dot, Flatten, Dense, concatenate, Dropout\n",
    "from tensorflow.keras.activations import sigmoid\n",
    "from tensorflow.keras import regularizers\n",
    "\n",
    "EMBEDDING_DIM = config.embedding\n",
    "\n",
    "# WIDE MODEL\n",
    "wide_model = Sequential([Dense(EMBEDDING_DIM * 2, use_bias='false', \n",
    "                        kernel_regularizer=regularizers.l2(config.l2)),\n",
    "                         Dropout(config.dropout)])\n",
    "\n",
    "# DEEP MODEL\n",
    "deep_layers = []\n",
    "for i in range(config.num_of_deep_layers):\n",
    "    deep_layers += [Dense(EMBEDDING_DIM, activation='relu', use_bias='false', kernel_regularizer=regularizers.l2(config.l2)),\n",
    "                    Dropout(config.dropout)]\n",
    "              \n",
    "deep_model = Sequential(deep_layers)\n",
    "\n",
    "# input layers\n",
    "product_input = Input(shape=[1], name='product_id')\n",
    "user_input = Input(shape=[1], name='user_id')\n",
    "\n",
    "page_views_input = Input(shape=[1], name='page_views')\n",
    "session_time_input = Input(shape=[1], name='session_time')\n",
    "\n",
    "price_input = Input(shape=[1], name='price')\n",
    "\n",
    "category_input = Input(shape=[1], name='category_id')\n",
    "category_input_int = tf.keras.layers.IntegerLookup(vocabulary=unique_category, num_oov_indices=1, mask_token=None)(category_input)\n",
    "category_embedding = Embedding(n_products+1, EMBEDDING_DIM, embeddings_regularizer=regularizers.l2(config.l2))(category_input_int)\n",
    "\n",
    "session_context = concatenate([price_input, page_views_input, session_time_input])\n",
    "session_context = tf.keras.layers.BatchNormalization()(session_context)\n",
    "session_context = tf.keras.layers.Dense(EMBEDDING_DIM, activation='relu', kernel_regularizer=regularizers.l2(config.l2))(session_context)\n",
    "\n",
    "product_input_int = tf.keras.layers.IntegerLookup(vocabulary=unique_products, num_oov_indices=1, mask_token=None)(product_input)\n",
    "user_input_int = tf.keras.layers.IntegerLookup(vocabulary=unique_users, num_oov_indices=1, mask_token=None)(user_input)\n",
    "\n",
    "# # Convert strings to integers\n",
    "# product_input_int = product_lookup(product_input)\n",
    "# user_input_int = user_lookup(user_input)\n",
    "\n",
    "# embedding layers \n",
    "product_embedding = Embedding(n_products+1, EMBEDDING_DIM, embeddings_regularizer=regularizers.l2(config.l2))(product_input_int)\n",
    "user_embedding = Embedding(n_users+1, EMBEDDING_DIM, embeddings_regularizer=regularizers.l2(config.l2))(user_input_int)\n",
    "\n",
    "# flatten the embeddings\n",
    "product_flat = Flatten()(product_embedding)\n",
    "user_flat = Flatten()(user_embedding)\n",
    "category_embedding = Flatten()(category_embedding)\n",
    "\n",
    "# wide and deep model\n",
    "concat = concatenate([product_flat, user_flat, category_embedding])\n",
    "wide_output = wide_model(concat)\n",
    "deep_output = deep_model(concat)\n",
    "\n",
    "# output layer\n",
    "concat_2 = concatenate([wide_output, deep_output])\n",
    "embeddings_output = tf.keras.layers.Dense(EMBEDDING_DIM, activation='relu',  kernel_regularizer=regularizers.l2(config.l2), use_bias='false')(concat_2)\n",
    "concat_3 = concatenate([embeddings_output, session_context])\n",
    "output = Dense(1, activation='sigmoid', use_bias='false')(concat_3)\n",
    "#output = sigmoid(Dot(1)([wide_output, deep_output]))\n",
    "\n",
    "# the model\n",
    "model = Model([product_input, user_input, page_views_input, session_time_input, price_input, category_input], [output])"
   ]
  },
  {
   "cell_type": "code",
   "execution_count": 100,
   "id": "8d66044d-3859-4723-8864-46ea58db3d20",
   "metadata": {},
   "outputs": [
    {
     "name": "stdout",
     "output_type": "stream",
     "text": [
      "Model: \"model_2\"\n",
      "__________________________________________________________________________________________________\n",
      " Layer (type)                Output Shape                 Param #   Connected to                  \n",
      "==================================================================================================\n",
      " product_id (InputLayer)     [(None, 1)]                  0         []                            \n",
      "                                                                                                  \n",
      " user_id (InputLayer)        [(None, 1)]                  0         []                            \n",
      "                                                                                                  \n",
      " category_id (InputLayer)    [(None, 1)]                  0         []                            \n",
      "                                                                                                  \n",
      " integer_lookup_4 (IntegerL  (None, 1)                    0         ['product_id[0][0]']          \n",
      " ookup)                                                                                           \n",
      "                                                                                                  \n",
      " integer_lookup_5 (IntegerL  (None, 1)                    0         ['user_id[0][0]']             \n",
      " ookup)                                                                                           \n",
      "                                                                                                  \n",
      " integer_lookup_3 (IntegerL  (None, 1)                    0         ['category_id[0][0]']         \n",
      " ookup)                                                                                           \n",
      "                                                                                                  \n",
      " embedding_4 (Embedding)     (None, 1, 16)                835680    ['integer_lookup_4[0][0]']    \n",
      "                                                                                                  \n",
      " embedding_5 (Embedding)     (None, 1, 16)                160016    ['integer_lookup_5[0][0]']    \n",
      "                                                                                                  \n",
      " embedding_3 (Embedding)     (None, 1, 16)                835680    ['integer_lookup_3[0][0]']    \n",
      "                                                                                                  \n",
      " flatten_3 (Flatten)         (None, 16)                   0         ['embedding_4[0][0]']         \n",
      "                                                                                                  \n",
      " flatten_4 (Flatten)         (None, 16)                   0         ['embedding_5[0][0]']         \n",
      "                                                                                                  \n",
      " flatten_5 (Flatten)         (None, 16)                   0         ['embedding_3[0][0]']         \n",
      "                                                                                                  \n",
      " concatenate_5 (Concatenate  (None, 48)                   0         ['flatten_3[0][0]',           \n",
      " )                                                                   'flatten_4[0][0]',           \n",
      "                                                                     'flatten_5[0][0]']           \n",
      "                                                                                                  \n",
      " price (InputLayer)          [(None, 1)]                  0         []                            \n",
      "                                                                                                  \n",
      " page_views (InputLayer)     [(None, 1)]                  0         []                            \n",
      "                                                                                                  \n",
      " session_time (InputLayer)   [(None, 1)]                  0         []                            \n",
      "                                                                                                  \n",
      " sequential_2 (Sequential)   (None, 32)                   1568      ['concatenate_5[0][0]']       \n",
      "                                                                                                  \n",
      " sequential_3 (Sequential)   (None, 16)                   1600      ['concatenate_5[0][0]']       \n",
      "                                                                                                  \n",
      " concatenate_4 (Concatenate  (None, 3)                    0         ['price[0][0]',               \n",
      " )                                                                   'page_views[0][0]',          \n",
      "                                                                     'session_time[0][0]']        \n",
      "                                                                                                  \n",
      " concatenate_6 (Concatenate  (None, 48)                   0         ['sequential_2[0][0]',        \n",
      " )                                                                   'sequential_3[0][0]']        \n",
      "                                                                                                  \n",
      " batch_normalization_1 (Bat  (None, 3)                    12        ['concatenate_4[0][0]']       \n",
      " chNormalization)                                                                                 \n",
      "                                                                                                  \n",
      " dense_14 (Dense)            (None, 16)                   784       ['concatenate_6[0][0]']       \n",
      "                                                                                                  \n",
      " dense_13 (Dense)            (None, 16)                   64        ['batch_normalization_1[0][0]'\n",
      "                                                                    ]                             \n",
      "                                                                                                  \n",
      " concatenate_7 (Concatenate  (None, 32)                   0         ['dense_14[0][0]',            \n",
      " )                                                                   'dense_13[0][0]']            \n",
      "                                                                                                  \n",
      " dense_15 (Dense)            (None, 1)                    33        ['concatenate_7[0][0]']       \n",
      "                                                                                                  \n",
      "==================================================================================================\n",
      "Total params: 1835437 (7.00 MB)\n",
      "Trainable params: 1835431 (7.00 MB)\n",
      "Non-trainable params: 6 (24.00 Byte)\n",
      "__________________________________________________________________________________________________\n"
     ]
    }
   ],
   "source": [
    "model.summary()"
   ]
  },
  {
   "cell_type": "markdown",
   "id": "9f3ffccf-368f-4150-8f38-9773d3f898c0",
   "metadata": {},
   "source": [
    "As said before, I will need to handle the imbalanced label problem. So I relied on class weights to prioritize more on minotiry class."
   ]
  },
  {
   "cell_type": "markdown",
   "id": "0323a9e9-c2fb-42d0-b8a6-4c0ba16c941c",
   "metadata": {},
   "source": [
    "I used accuracy, precision & recall, and AUC as metrics to monitor the training process."
   ]
  },
  {
   "cell_type": "code",
   "execution_count": 106,
   "id": "cc2f09cb-1255-43e3-9e0a-8fc659fca354",
   "metadata": {},
   "outputs": [
    {
     "name": "stderr",
     "output_type": "stream",
     "text": [
      "WARNING:absl:`lr` is deprecated in Keras optimizer, please use `learning_rate` or use the legacy optimizer, e.g.,tf.keras.optimizers.legacy.Adam.\n"
     ]
    }
   ],
   "source": [
    "from sklearn.utils import class_weight\n",
    "\n",
    "class_weights = class_weight.compute_class_weight('balanced', \n",
    "                                                  classes=np.unique(train.purchased),\n",
    "                                                  y=train.purchased)\n",
    "class_weights_dict = dict(enumerate(class_weights))\n",
    "\n",
    "model.compile(optimizer=Adam(lr=1e-2), loss='binary_crossentropy', \n",
    "              metrics=['accuracy',  tf.keras.metrics.Precision(), tf.keras.metrics.Recall(name='recall'),\n",
    "                      tf.keras.metrics.AUC(name='AUC')])\n"
   ]
  },
  {
   "cell_type": "markdown",
   "id": "c810a632-9e36-43cd-b07d-28094c87f2e4",
   "metadata": {},
   "source": [
    "### Model Training"
   ]
  },
  {
   "cell_type": "markdown",
   "id": "21d21da1-efcc-41d4-bc88-f2f9a60374ee",
   "metadata": {},
   "source": [
    "I also used Checkpoints to save the best models on each run. I could have used WandB artefacts to save models, but I decided to disable it as it took too long."
   ]
  },
  {
   "cell_type": "code",
   "execution_count": 107,
   "id": "1e51fdb1-5fc9-47c2-82a9-e0430b077b68",
   "metadata": {},
   "outputs": [],
   "source": [
    "from tensorflow.keras.callbacks import ModelCheckpoint\n",
    "\n",
    "\n",
    "checkpoint_callback = ModelCheckpoint(\n",
    "    filepath='best_weights_epoch-{epoch:02d}-val-auc-{val_AUC:.3f}.hdf5',\n",
    "    monitor='val_recall',  \n",
    "    mode='max',          \n",
    "    save_best_only=True,  # Save only the best model\n",
    "    save_weights_only=True,  \n",
    "    verbose=1            \n",
    ")"
   ]
  },
  {
   "cell_type": "markdown",
   "id": "62ef93ea-e07d-4f58-9856-4197eb8a327a",
   "metadata": {},
   "source": [
    "Giving it more epoch results in less diverse recommendation and overfitted models. So I stick with <5 epochs."
   ]
  },
  {
   "cell_type": "code",
   "execution_count": 108,
   "id": "0af518e9-7e9d-48df-999e-e2e497e4191f",
   "metadata": {},
   "outputs": [
    {
     "name": "stdout",
     "output_type": "stream",
     "text": [
      "Epoch 1/3\n",
      " 6/22 [=======>......................] - ETA: 1s - loss: 0.5316 - accuracy: 0.7593 - precision_2: 0.0815 - recall: 0.8261 - AUC: 0.8390WARNING:tensorflow:Callback method `on_train_batch_end` is slow compared to the batch time (batch time: 0.0343s vs `on_train_batch_end` time: 0.0638s). Check your callbacks.\n"
     ]
    },
    {
     "name": "stderr",
     "output_type": "stream",
     "text": [
      "WARNING:tensorflow:Callback method `on_train_batch_end` is slow compared to the batch time (batch time: 0.0343s vs `on_train_batch_end` time: 0.0638s). Check your callbacks.\n"
     ]
    },
    {
     "name": "stdout",
     "output_type": "stream",
     "text": [
      "22/22 [==============================] - ETA: 0s - loss: 0.5288 - accuracy: 0.7514 - precision_2: 0.0792 - recall: 0.8097 - AUC: 0.8271\n",
      "Epoch 1: val_recall improved from -inf to 0.61552, saving model to best_weights_epoch-01-val-auc-0.707.hdf5\n",
      "22/22 [==============================] - 10s 216ms/step - loss: 0.5288 - accuracy: 0.7514 - precision_2: 0.0792 - recall: 0.8097 - AUC: 0.8271 - val_loss: 0.5687 - val_accuracy: 0.7012 - val_precision_2: 0.0517 - val_recall: 0.6155 - val_AUC: 0.7075\n",
      "Epoch 2/3\n",
      "22/22 [==============================] - ETA: 0s - loss: 0.4697 - accuracy: 0.7626 - precision_2: 0.0852 - recall: 0.8389 - AUC: 0.8565\n",
      "Epoch 2: val_recall improved from 0.61552 to 0.63228, saving model to best_weights_epoch-02-val-auc-0.711.hdf5\n",
      "22/22 [==============================] - 3s 146ms/step - loss: 0.4697 - accuracy: 0.7626 - precision_2: 0.0852 - recall: 0.8389 - AUC: 0.8565 - val_loss: 0.5488 - val_accuracy: 0.6993 - val_precision_2: 0.0527 - val_recall: 0.6323 - val_AUC: 0.7110\n",
      "Epoch 3/3\n",
      "22/22 [==============================] - ETA: 0s - loss: 0.4306 - accuracy: 0.7633 - precision_2: 0.0871 - recall: 0.8579 - AUC: 0.8762\n",
      "Epoch 3: val_recall improved from 0.63228 to 0.63492, saving model to best_weights_epoch-03-val-auc-0.713.hdf5\n",
      "22/22 [==============================] - 3s 146ms/step - loss: 0.4306 - accuracy: 0.7633 - precision_2: 0.0871 - recall: 0.8579 - AUC: 0.8762 - val_loss: 0.5155 - val_accuracy: 0.7001 - val_precision_2: 0.0530 - val_recall: 0.6349 - val_AUC: 0.7126\n"
     ]
    }
   ],
   "source": [
    "history = model.fit(x=[train.product_id, train.user_id, train.page_views, train.session_time, train.price, train.category_id], y=train.purchased,\n",
    "                    validation_split=0.2,\n",
    "                    batch_size=8192,\n",
    "                    epochs=3,\n",
    "                    class_weight=class_weights_dict,\n",
    "                    callbacks=[\n",
    "                      WandbMetricsLogger(log_freq='batch'),\n",
    "                      # WandbModelCheckpoint(\"models-initial\"),\n",
    "                      checkpoint_callback \n",
    "                    ])"
   ]
  },
  {
   "cell_type": "markdown",
   "id": "4a23c918-b5b2-43e7-8aab-e405a5c5480c",
   "metadata": {},
   "source": [
    "### Model Evaluation"
   ]
  },
  {
   "cell_type": "markdown",
   "id": "787b781b-c4be-4676-8b59-c2d6d83c506d",
   "metadata": {},
   "source": [
    "Please don't complain about the horrible precision and recall values, as I have tried my best 🥺"
   ]
  },
  {
   "cell_type": "code",
   "execution_count": 109,
   "id": "849aefee-7d84-48f6-9580-be14c1e805fa",
   "metadata": {},
   "outputs": [
    {
     "name": "stdout",
     "output_type": "stream",
     "text": [
      "7/7 [==============================] - 1s 95ms/step - loss: 0.5201 - accuracy: 0.6985 - precision_2: 0.0537 - recall: 0.6077 - AUC: 0.6973\n"
     ]
    },
    {
     "data": {
      "text/plain": [
       "[0.520074725151062,\n",
       " 0.6984933018684387,\n",
       " 0.05372362211346626,\n",
       " 0.6077127456665039,\n",
       " 0.6972603797912598]"
      ]
     },
     "execution_count": 109,
     "metadata": {},
     "output_type": "execute_result"
    }
   ],
   "source": [
    "model.evaluate(x=[test.product_id, test.user_id, test.page_views, test.session_time, test.price, test.category_id], \n",
    "               y=test.purchased, batch_size=8192)"
   ]
  },
  {
   "cell_type": "markdown",
   "id": "c079ea8d-9f0a-4ad3-9d85-7b2cc346b4f0",
   "metadata": {},
   "source": [
    "### Demonstrating Recommendation System"
   ]
  },
  {
   "cell_type": "markdown",
   "id": "16c01925-3a96-4aff-9e62-d19159fa9749",
   "metadata": {},
   "source": [
    "I created a function to get recommended products for a given user. It also takes page_views and session_time as the context of that session."
   ]
  },
  {
   "cell_type": "code",
   "execution_count": 127,
   "id": "4d840c7d-12ef-4152-9031-81824b873bfe",
   "metadata": {},
   "outputs": [],
   "source": [
    "def get_product_recommendation(user_id, page_views, session_time, products=product_details, model=model):\n",
    "    products = products.copy()\n",
    "    user_ids = [user_id] * len(products)\n",
    "    page_views = [page_views] * len(products)\n",
    "    session_time = [session_time] * len(products)\n",
    "\n",
    "    input_ = pd.DataFrame({'product_id': list(products.product_id), \n",
    "                           'user_id': user_ids,\n",
    "                           'page_views': page_views,\n",
    "                           'session_time': session_time,\n",
    "                           'price': list(products.price),\n",
    "                           'category_id': list(products.category_id)})\n",
    "    \n",
    "    results = model([input_['product_id'], \n",
    "                     input_['user_id'],\n",
    "                     input_['page_views'].values.reshape(-1, 1),\n",
    "                     input_['session_time'].values.reshape(-1, 1),\n",
    "                     input_['price'].values.reshape(-1, 1),\n",
    "                     input_['category_id']\n",
    "                    ]).numpy().reshape(-1)\n",
    "    # results = model([products, user_ids]).numpy().reshape(-1)\n",
    "    \n",
    "    products['purchase_proba'] = pd.Series(results, index=products.index)\n",
    "    products = products.sort_values('purchase_proba', ascending=False)\n",
    "    \n",
    "    return products"
   ]
  },
  {
   "cell_type": "markdown",
   "id": "7e49c3e2-3832-4b72-8fa0-04ca2fb41d09",
   "metadata": {},
   "source": [
    "Here, you can change the arg values and see different results."
   ]
  },
  {
   "cell_type": "code",
   "execution_count": 128,
   "id": "07bd8752-fab2-447a-b93e-0660cdaa35c5",
   "metadata": {},
   "outputs": [
    {
     "data": {
      "text/html": [
       "<div>\n",
       "<style scoped>\n",
       "    .dataframe tbody tr th:only-of-type {\n",
       "        vertical-align: middle;\n",
       "    }\n",
       "\n",
       "    .dataframe tbody tr th {\n",
       "        vertical-align: top;\n",
       "    }\n",
       "\n",
       "    .dataframe thead th {\n",
       "        text-align: right;\n",
       "    }\n",
       "</style>\n",
       "<table border=\"1\" class=\"dataframe\">\n",
       "  <thead>\n",
       "    <tr style=\"text-align: right;\">\n",
       "      <th></th>\n",
       "      <th>product_id</th>\n",
       "      <th>category_id</th>\n",
       "      <th>price</th>\n",
       "      <th>purchase_proba</th>\n",
       "    </tr>\n",
       "  </thead>\n",
       "  <tbody>\n",
       "    <tr>\n",
       "      <th>916</th>\n",
       "      <td>1005144</td>\n",
       "      <td>2053013555631882655</td>\n",
       "      <td>1720.407530</td>\n",
       "      <td>0.786002</td>\n",
       "    </tr>\n",
       "    <tr>\n",
       "      <th>907</th>\n",
       "      <td>1005135</td>\n",
       "      <td>2053013555631882655</td>\n",
       "      <td>1737.485376</td>\n",
       "      <td>0.784788</td>\n",
       "    </tr>\n",
       "    <tr>\n",
       "      <th>47129</th>\n",
       "      <td>33900039</td>\n",
       "      <td>2059484602216481097</td>\n",
       "      <td>2573.810000</td>\n",
       "      <td>0.755602</td>\n",
       "    </tr>\n",
       "    <tr>\n",
       "      <th>40109</th>\n",
       "      <td>27700639</td>\n",
       "      <td>2053013560086233771</td>\n",
       "      <td>2571.150000</td>\n",
       "      <td>0.750894</td>\n",
       "    </tr>\n",
       "    <tr>\n",
       "      <th>47148</th>\n",
       "      <td>33900067</td>\n",
       "      <td>2059484602216481097</td>\n",
       "      <td>2573.810000</td>\n",
       "      <td>0.750641</td>\n",
       "    </tr>\n",
       "    <tr>\n",
       "      <th>...</th>\n",
       "      <td>...</td>\n",
       "      <td>...</td>\n",
       "      <td>...</td>\n",
       "      <td>...</td>\n",
       "    </tr>\n",
       "    <tr>\n",
       "      <th>33140</th>\n",
       "      <td>22700324</td>\n",
       "      <td>2053013556168753601</td>\n",
       "      <td>22.279091</td>\n",
       "      <td>0.189495</td>\n",
       "    </tr>\n",
       "    <tr>\n",
       "      <th>9041</th>\n",
       "      <td>5100833</td>\n",
       "      <td>2053013553375346967</td>\n",
       "      <td>47.687910</td>\n",
       "      <td>0.189279</td>\n",
       "    </tr>\n",
       "    <tr>\n",
       "      <th>8349</th>\n",
       "      <td>4804137</td>\n",
       "      <td>2053013554658804075</td>\n",
       "      <td>105.215313</td>\n",
       "      <td>0.182693</td>\n",
       "    </tr>\n",
       "    <tr>\n",
       "      <th>42876</th>\n",
       "      <td>28715756</td>\n",
       "      <td>2053013565069067197</td>\n",
       "      <td>73.484490</td>\n",
       "      <td>0.180599</td>\n",
       "    </tr>\n",
       "    <tr>\n",
       "      <th>14256</th>\n",
       "      <td>8800093</td>\n",
       "      <td>2053013555573162395</td>\n",
       "      <td>53.849344</td>\n",
       "      <td>0.177097</td>\n",
       "    </tr>\n",
       "  </tbody>\n",
       "</table>\n",
       "<p>52230 rows × 4 columns</p>\n",
       "</div>"
      ],
      "text/plain": [
       "       product_id          category_id        price  purchase_proba\n",
       "916       1005144  2053013555631882655  1720.407530        0.786002\n",
       "907       1005135  2053013555631882655  1737.485376        0.784788\n",
       "47129    33900039  2059484602216481097  2573.810000        0.755602\n",
       "40109    27700639  2053013560086233771  2571.150000        0.750894\n",
       "47148    33900067  2059484602216481097  2573.810000        0.750641\n",
       "...           ...                  ...          ...             ...\n",
       "33140    22700324  2053013556168753601    22.279091        0.189495\n",
       "9041      5100833  2053013553375346967    47.687910        0.189279\n",
       "8349      4804137  2053013554658804075   105.215313        0.182693\n",
       "42876    28715756  2053013565069067197    73.484490        0.180599\n",
       "14256     8800093  2053013555573162395    53.849344        0.177097\n",
       "\n",
       "[52230 rows x 4 columns]"
      ]
     },
     "execution_count": 128,
     "metadata": {},
     "output_type": "execute_result"
    }
   ],
   "source": [
    "get_product_recommendation(513411503, \n",
    "                   page_views=10, \n",
    "                   session_time=714.0)"
   ]
  },
  {
   "cell_type": "code",
   "execution_count": 129,
   "id": "9027e332-05f2-4144-a366-0c1fefd9afc0",
   "metadata": {},
   "outputs": [
    {
     "data": {
      "text/html": [
       "<div>\n",
       "<style scoped>\n",
       "    .dataframe tbody tr th:only-of-type {\n",
       "        vertical-align: middle;\n",
       "    }\n",
       "\n",
       "    .dataframe tbody tr th {\n",
       "        vertical-align: top;\n",
       "    }\n",
       "\n",
       "    .dataframe thead th {\n",
       "        text-align: right;\n",
       "    }\n",
       "</style>\n",
       "<table border=\"1\" class=\"dataframe\">\n",
       "  <thead>\n",
       "    <tr style=\"text-align: right;\">\n",
       "      <th></th>\n",
       "      <th>product_id</th>\n",
       "      <th>category_id</th>\n",
       "      <th>price</th>\n",
       "      <th>purchase_proba</th>\n",
       "    </tr>\n",
       "  </thead>\n",
       "  <tbody>\n",
       "    <tr>\n",
       "      <th>916</th>\n",
       "      <td>1005144</td>\n",
       "      <td>2053013555631882655</td>\n",
       "      <td>1720.407530</td>\n",
       "      <td>0.772818</td>\n",
       "    </tr>\n",
       "    <tr>\n",
       "      <th>907</th>\n",
       "      <td>1005135</td>\n",
       "      <td>2053013555631882655</td>\n",
       "      <td>1737.485376</td>\n",
       "      <td>0.770175</td>\n",
       "    </tr>\n",
       "    <tr>\n",
       "      <th>847</th>\n",
       "      <td>1005074</td>\n",
       "      <td>2053013555631882655</td>\n",
       "      <td>1188.910128</td>\n",
       "      <td>0.731957</td>\n",
       "    </tr>\n",
       "    <tr>\n",
       "      <th>47129</th>\n",
       "      <td>33900039</td>\n",
       "      <td>2059484602216481097</td>\n",
       "      <td>2573.810000</td>\n",
       "      <td>0.727920</td>\n",
       "    </tr>\n",
       "    <tr>\n",
       "      <th>912</th>\n",
       "      <td>1005140</td>\n",
       "      <td>2053013555631882655</td>\n",
       "      <td>1524.516667</td>\n",
       "      <td>0.727900</td>\n",
       "    </tr>\n",
       "    <tr>\n",
       "      <th>...</th>\n",
       "      <td>...</td>\n",
       "      <td>...</td>\n",
       "      <td>...</td>\n",
       "      <td>...</td>\n",
       "    </tr>\n",
       "    <tr>\n",
       "      <th>5850</th>\n",
       "      <td>3601505</td>\n",
       "      <td>2053013563810775923</td>\n",
       "      <td>479.102000</td>\n",
       "      <td>0.198451</td>\n",
       "    </tr>\n",
       "    <tr>\n",
       "      <th>5721</th>\n",
       "      <td>3601212</td>\n",
       "      <td>2053013563810775923</td>\n",
       "      <td>409.266082</td>\n",
       "      <td>0.196772</td>\n",
       "    </tr>\n",
       "    <tr>\n",
       "      <th>42876</th>\n",
       "      <td>28715756</td>\n",
       "      <td>2053013565069067197</td>\n",
       "      <td>73.484490</td>\n",
       "      <td>0.193689</td>\n",
       "    </tr>\n",
       "    <tr>\n",
       "      <th>8349</th>\n",
       "      <td>4804137</td>\n",
       "      <td>2053013554658804075</td>\n",
       "      <td>105.215313</td>\n",
       "      <td>0.193333</td>\n",
       "    </tr>\n",
       "    <tr>\n",
       "      <th>14256</th>\n",
       "      <td>8800093</td>\n",
       "      <td>2053013555573162395</td>\n",
       "      <td>53.849344</td>\n",
       "      <td>0.188743</td>\n",
       "    </tr>\n",
       "  </tbody>\n",
       "</table>\n",
       "<p>52230 rows × 4 columns</p>\n",
       "</div>"
      ],
      "text/plain": [
       "       product_id          category_id        price  purchase_proba\n",
       "916       1005144  2053013555631882655  1720.407530        0.772818\n",
       "907       1005135  2053013555631882655  1737.485376        0.770175\n",
       "847       1005074  2053013555631882655  1188.910128        0.731957\n",
       "47129    33900039  2059484602216481097  2573.810000        0.727920\n",
       "912       1005140  2053013555631882655  1524.516667        0.727900\n",
       "...           ...                  ...          ...             ...\n",
       "5850      3601505  2053013563810775923   479.102000        0.198451\n",
       "5721      3601212  2053013563810775923   409.266082        0.196772\n",
       "42876    28715756  2053013565069067197    73.484490        0.193689\n",
       "8349      4804137  2053013554658804075   105.215313        0.193333\n",
       "14256     8800093  2053013555573162395    53.849344        0.188743\n",
       "\n",
       "[52230 rows x 4 columns]"
      ]
     },
     "execution_count": 129,
     "metadata": {},
     "output_type": "execute_result"
    }
   ],
   "source": [
    "get_product_recommendation(512525276, \n",
    "                   page_views=3, \n",
    "                   session_time=182.0)"
   ]
  },
  {
   "cell_type": "markdown",
   "id": "32c89f09-cb22-4655-a382-fe59b5877753",
   "metadata": {},
   "source": [
    "### Getting User Recommendations"
   ]
  },
  {
   "cell_type": "markdown",
   "id": "cb916b13-95e3-450b-a519-8adec6a0b31c",
   "metadata": {},
   "source": [
    "So I thought of an idea. If a product was on sale with discounts/cashback, and it wants to promote to a number of users. Which users should get the notifications? So this function will predict which users are more likely to buy the given product."
   ]
  },
  {
   "cell_type": "markdown",
   "id": "7346ab3f-850c-4ebe-9f2f-82d8a8d50abc",
   "metadata": {},
   "source": [
    "Create user_details which take 1 row of every unique user_id"
   ]
  },
  {
   "cell_type": "code",
   "execution_count": 130,
   "id": "b8b0c631-5ecf-41d2-ba51-f30b12796b96",
   "metadata": {},
   "outputs": [],
   "source": [
    "user_details = customer_interactions.loc[customer_interactions.user_id.drop_duplicates().index]"
   ]
  },
  {
   "cell_type": "code",
   "execution_count": 131,
   "id": "9ad3c6aa-8fda-4529-97cb-7ecdfb4dcafb",
   "metadata": {},
   "outputs": [],
   "source": [
    "# Find which users are likely to buy which product\n",
    "def get_user_recommendation(product_id, price, category_id, users=user_details, model=model):\n",
    "    users = users.copy()\n",
    "    product_ids = [product_id] * len(users)\n",
    "    prices = [price] * len(users)\n",
    "    category_ids = [category_id] * len(users)\n",
    "\n",
    "    \n",
    "    input_ = pd.DataFrame({'product_id': product_ids, \n",
    "                           'user_id': list(users.user_id),\n",
    "                           'page_views': list(users.page_views),\n",
    "                           'session_time': list(users.session_time),\n",
    "                           'price': prices,\n",
    "                           'category_id': category_ids})\n",
    "    \n",
    "    results = model([input_['product_id'], \n",
    "                     input_['user_id'],\n",
    "                     input_['page_views'].values.reshape(-1, 1),\n",
    "                     input_['session_time'].values.reshape(-1, 1),\n",
    "                     input_['price'].values.reshape(-1, 1),\n",
    "                     input_['category_id']\n",
    "                    ]).numpy().reshape(-1)\n",
    "    \n",
    "    users['purchase_proba'] = pd.Series(results, index=users.index)\n",
    "    users = users.sort_values('purchase_proba', ascending=False)\n",
    "    \n",
    "    return users"
   ]
  },
  {
   "cell_type": "code",
   "execution_count": 132,
   "id": "57324a31-c6fa-460a-89c7-b1f92bbb43a8",
   "metadata": {},
   "outputs": [
    {
     "data": {
      "text/html": [
       "<div>\n",
       "<style scoped>\n",
       "    .dataframe tbody tr th:only-of-type {\n",
       "        vertical-align: middle;\n",
       "    }\n",
       "\n",
       "    .dataframe tbody tr th {\n",
       "        vertical-align: top;\n",
       "    }\n",
       "\n",
       "    .dataframe thead th {\n",
       "        text-align: right;\n",
       "    }\n",
       "</style>\n",
       "<table border=\"1\" class=\"dataframe\">\n",
       "  <thead>\n",
       "    <tr style=\"text-align: right;\">\n",
       "      <th></th>\n",
       "      <th>user_id</th>\n",
       "      <th>page_views</th>\n",
       "      <th>session_time</th>\n",
       "      <th>session_id</th>\n",
       "      <th>purchase_proba</th>\n",
       "    </tr>\n",
       "  </thead>\n",
       "  <tbody>\n",
       "    <tr>\n",
       "      <th>790</th>\n",
       "      <td>547466368</td>\n",
       "      <td>4</td>\n",
       "      <td>117.0</td>\n",
       "      <td>02512329-da54-4a4d-a0db-bd25bde50e31</td>\n",
       "      <td>0.502976</td>\n",
       "    </tr>\n",
       "    <tr>\n",
       "      <th>295</th>\n",
       "      <td>550472384</td>\n",
       "      <td>3</td>\n",
       "      <td>387.0</td>\n",
       "      <td>00e09b60-6b60-46a4-9172-f2825719dc47</td>\n",
       "      <td>0.482903</td>\n",
       "    </tr>\n",
       "    <tr>\n",
       "      <th>54708</th>\n",
       "      <td>538546070</td>\n",
       "      <td>2</td>\n",
       "      <td>48.0</td>\n",
       "      <td>a0673da0-17f3-4de7-a3dc-b46cc90d244a</td>\n",
       "      <td>0.480648</td>\n",
       "    </tr>\n",
       "    <tr>\n",
       "      <th>7485</th>\n",
       "      <td>512983498</td>\n",
       "      <td>2</td>\n",
       "      <td>31.0</td>\n",
       "      <td>15f425fb-9d08-4b2e-9c34-b5d81051b1a8</td>\n",
       "      <td>0.467882</td>\n",
       "    </tr>\n",
       "    <tr>\n",
       "      <th>61237</th>\n",
       "      <td>531119538</td>\n",
       "      <td>1</td>\n",
       "      <td>0.0</td>\n",
       "      <td>b3b77859-0387-4ee2-85a5-ea8650c3aedf</td>\n",
       "      <td>0.466564</td>\n",
       "    </tr>\n",
       "  </tbody>\n",
       "</table>\n",
       "</div>"
      ],
      "text/plain": [
       "         user_id  page_views  session_time  \\\n",
       "790    547466368           4         117.0   \n",
       "295    550472384           3         387.0   \n",
       "54708  538546070           2          48.0   \n",
       "7485   512983498           2          31.0   \n",
       "61237  531119538           1           0.0   \n",
       "\n",
       "                                 session_id  purchase_proba  \n",
       "790    02512329-da54-4a4d-a0db-bd25bde50e31        0.502976  \n",
       "295    00e09b60-6b60-46a4-9172-f2825719dc47        0.482903  \n",
       "54708  a0673da0-17f3-4de7-a3dc-b46cc90d244a        0.480648  \n",
       "7485   15f425fb-9d08-4b2e-9c34-b5d81051b1a8        0.467882  \n",
       "61237  b3b77859-0387-4ee2-85a5-ea8650c3aedf        0.466564  "
      ]
     },
     "execution_count": 132,
     "metadata": {},
     "output_type": "execute_result"
    }
   ],
   "source": [
    "get_user_recommendation(product_id=12400024,\n",
    "                        price=161,\n",
    "                        category_id=2053013556252639687).head(5)"
   ]
  },
  {
   "cell_type": "code",
   "execution_count": 133,
   "id": "f794b90a-9cc9-46cd-a776-83ac9128bf91",
   "metadata": {},
   "outputs": [
    {
     "data": {
      "text/html": [
       "<div>\n",
       "<style scoped>\n",
       "    .dataframe tbody tr th:only-of-type {\n",
       "        vertical-align: middle;\n",
       "    }\n",
       "\n",
       "    .dataframe tbody tr th {\n",
       "        vertical-align: top;\n",
       "    }\n",
       "\n",
       "    .dataframe thead th {\n",
       "        text-align: right;\n",
       "    }\n",
       "</style>\n",
       "<table border=\"1\" class=\"dataframe\">\n",
       "  <thead>\n",
       "    <tr style=\"text-align: right;\">\n",
       "      <th></th>\n",
       "      <th>user_id</th>\n",
       "      <th>page_views</th>\n",
       "      <th>session_time</th>\n",
       "      <th>session_id</th>\n",
       "      <th>purchase_proba</th>\n",
       "    </tr>\n",
       "  </thead>\n",
       "  <tbody>\n",
       "    <tr>\n",
       "      <th>790</th>\n",
       "      <td>547466368</td>\n",
       "      <td>4</td>\n",
       "      <td>117.0</td>\n",
       "      <td>02512329-da54-4a4d-a0db-bd25bde50e31</td>\n",
       "      <td>0.464500</td>\n",
       "    </tr>\n",
       "    <tr>\n",
       "      <th>54708</th>\n",
       "      <td>538546070</td>\n",
       "      <td>2</td>\n",
       "      <td>48.0</td>\n",
       "      <td>a0673da0-17f3-4de7-a3dc-b46cc90d244a</td>\n",
       "      <td>0.450992</td>\n",
       "    </tr>\n",
       "    <tr>\n",
       "      <th>295</th>\n",
       "      <td>550472384</td>\n",
       "      <td>3</td>\n",
       "      <td>387.0</td>\n",
       "      <td>00e09b60-6b60-46a4-9172-f2825719dc47</td>\n",
       "      <td>0.445602</td>\n",
       "    </tr>\n",
       "    <tr>\n",
       "      <th>61237</th>\n",
       "      <td>531119538</td>\n",
       "      <td>1</td>\n",
       "      <td>0.0</td>\n",
       "      <td>b3b77859-0387-4ee2-85a5-ea8650c3aedf</td>\n",
       "      <td>0.440557</td>\n",
       "    </tr>\n",
       "    <tr>\n",
       "      <th>36653</th>\n",
       "      <td>555465562</td>\n",
       "      <td>1</td>\n",
       "      <td>0.0</td>\n",
       "      <td>6b16ca30-c3bd-4324-ae27-dbb8a1448317</td>\n",
       "      <td>0.440144</td>\n",
       "    </tr>\n",
       "  </tbody>\n",
       "</table>\n",
       "</div>"
      ],
      "text/plain": [
       "         user_id  page_views  session_time  \\\n",
       "790    547466368           4         117.0   \n",
       "54708  538546070           2          48.0   \n",
       "295    550472384           3         387.0   \n",
       "61237  531119538           1           0.0   \n",
       "36653  555465562           1           0.0   \n",
       "\n",
       "                                 session_id  purchase_proba  \n",
       "790    02512329-da54-4a4d-a0db-bd25bde50e31        0.464500  \n",
       "54708  a0673da0-17f3-4de7-a3dc-b46cc90d244a        0.450992  \n",
       "295    00e09b60-6b60-46a4-9172-f2825719dc47        0.445602  \n",
       "61237  b3b77859-0387-4ee2-85a5-ea8650c3aedf        0.440557  \n",
       "36653  6b16ca30-c3bd-4324-ae27-dbb8a1448317        0.440144  "
      ]
     },
     "execution_count": 133,
     "metadata": {},
     "output_type": "execute_result"
    }
   ],
   "source": [
    "get_user_recommendation(product_id=12400024,\n",
    "                        price=10,\n",
    "                        category_id=2086471240800797129).head(5)"
   ]
  },
  {
   "cell_type": "markdown",
   "id": "80ffc89f-474f-49a3-8413-8f834ac464c5",
   "metadata": {},
   "source": [
    "# Save and Load Model"
   ]
  },
  {
   "cell_type": "code",
   "execution_count": 124,
   "id": "eb13a101-8cf8-4f27-93d3-d438a9c42100",
   "metadata": {},
   "outputs": [],
   "source": [
    "# model.save_weights('final_model.h5')"
   ]
  },
  {
   "cell_type": "code",
   "execution_count": 125,
   "id": "6663ca11-0939-4100-9a05-9fa020861257",
   "metadata": {},
   "outputs": [],
   "source": [
    "model_load = Model([product_input, user_input, page_views_input, session_time_input, price_input, category_input], [output])\n",
    "model_load.load_weights('final_model.h5')"
   ]
  },
  {
   "cell_type": "code",
   "execution_count": 126,
   "id": "2d2e2883-b133-4201-a1e9-63677c0f783b",
   "metadata": {},
   "outputs": [
    {
     "data": {
      "text/html": [
       "<div>\n",
       "<style scoped>\n",
       "    .dataframe tbody tr th:only-of-type {\n",
       "        vertical-align: middle;\n",
       "    }\n",
       "\n",
       "    .dataframe tbody tr th {\n",
       "        vertical-align: top;\n",
       "    }\n",
       "\n",
       "    .dataframe thead th {\n",
       "        text-align: right;\n",
       "    }\n",
       "</style>\n",
       "<table border=\"1\" class=\"dataframe\">\n",
       "  <thead>\n",
       "    <tr style=\"text-align: right;\">\n",
       "      <th></th>\n",
       "      <th>product_id</th>\n",
       "      <th>category_id</th>\n",
       "      <th>price</th>\n",
       "      <th>purchase_proba</th>\n",
       "    </tr>\n",
       "  </thead>\n",
       "  <tbody>\n",
       "    <tr>\n",
       "      <th>916</th>\n",
       "      <td>1005144</td>\n",
       "      <td>2053013555631882655</td>\n",
       "      <td>1720.407530</td>\n",
       "      <td>0.786002</td>\n",
       "    </tr>\n",
       "    <tr>\n",
       "      <th>907</th>\n",
       "      <td>1005135</td>\n",
       "      <td>2053013555631882655</td>\n",
       "      <td>1737.485376</td>\n",
       "      <td>0.784788</td>\n",
       "    </tr>\n",
       "    <tr>\n",
       "      <th>47129</th>\n",
       "      <td>33900039</td>\n",
       "      <td>2059484602216481097</td>\n",
       "      <td>2573.810000</td>\n",
       "      <td>0.755602</td>\n",
       "    </tr>\n",
       "    <tr>\n",
       "      <th>40109</th>\n",
       "      <td>27700639</td>\n",
       "      <td>2053013560086233771</td>\n",
       "      <td>2571.150000</td>\n",
       "      <td>0.750894</td>\n",
       "    </tr>\n",
       "    <tr>\n",
       "      <th>47148</th>\n",
       "      <td>33900067</td>\n",
       "      <td>2059484602216481097</td>\n",
       "      <td>2573.810000</td>\n",
       "      <td>0.750641</td>\n",
       "    </tr>\n",
       "    <tr>\n",
       "      <th>...</th>\n",
       "      <td>...</td>\n",
       "      <td>...</td>\n",
       "      <td>...</td>\n",
       "      <td>...</td>\n",
       "    </tr>\n",
       "    <tr>\n",
       "      <th>33140</th>\n",
       "      <td>22700324</td>\n",
       "      <td>2053013556168753601</td>\n",
       "      <td>22.279091</td>\n",
       "      <td>0.189495</td>\n",
       "    </tr>\n",
       "    <tr>\n",
       "      <th>9041</th>\n",
       "      <td>5100833</td>\n",
       "      <td>2053013553375346967</td>\n",
       "      <td>47.687910</td>\n",
       "      <td>0.189279</td>\n",
       "    </tr>\n",
       "    <tr>\n",
       "      <th>8349</th>\n",
       "      <td>4804137</td>\n",
       "      <td>2053013554658804075</td>\n",
       "      <td>105.215313</td>\n",
       "      <td>0.182693</td>\n",
       "    </tr>\n",
       "    <tr>\n",
       "      <th>42876</th>\n",
       "      <td>28715756</td>\n",
       "      <td>2053013565069067197</td>\n",
       "      <td>73.484490</td>\n",
       "      <td>0.180599</td>\n",
       "    </tr>\n",
       "    <tr>\n",
       "      <th>14256</th>\n",
       "      <td>8800093</td>\n",
       "      <td>2053013555573162395</td>\n",
       "      <td>53.849344</td>\n",
       "      <td>0.177097</td>\n",
       "    </tr>\n",
       "  </tbody>\n",
       "</table>\n",
       "<p>52230 rows × 4 columns</p>\n",
       "</div>"
      ],
      "text/plain": [
       "       product_id          category_id        price  purchase_proba\n",
       "916       1005144  2053013555631882655  1720.407530        0.786002\n",
       "907       1005135  2053013555631882655  1737.485376        0.784788\n",
       "47129    33900039  2059484602216481097  2573.810000        0.755602\n",
       "40109    27700639  2053013560086233771  2571.150000        0.750894\n",
       "47148    33900067  2059484602216481097  2573.810000        0.750641\n",
       "...           ...                  ...          ...             ...\n",
       "33140    22700324  2053013556168753601    22.279091        0.189495\n",
       "9041      5100833  2053013553375346967    47.687910        0.189279\n",
       "8349      4804137  2053013554658804075   105.215313        0.182693\n",
       "42876    28715756  2053013565069067197    73.484490        0.180599\n",
       "14256     8800093  2053013555573162395    53.849344        0.177097\n",
       "\n",
       "[52230 rows x 4 columns]"
      ]
     },
     "execution_count": 126,
     "metadata": {},
     "output_type": "execute_result"
    }
   ],
   "source": [
    "get_recommendation(513411503, \n",
    "                   page_views=10, \n",
    "                   session_time=714.0,\n",
    "                   model=model_load)"
   ]
  },
  {
   "cell_type": "code",
   "execution_count": 385,
   "id": "1eaf51be-1b95-419c-8d9f-7c857e9a8347",
   "metadata": {},
   "outputs": [
    {
     "data": {
      "text/html": [
       "<div>\n",
       "<style scoped>\n",
       "    .dataframe tbody tr th:only-of-type {\n",
       "        vertical-align: middle;\n",
       "    }\n",
       "\n",
       "    .dataframe tbody tr th {\n",
       "        vertical-align: top;\n",
       "    }\n",
       "\n",
       "    .dataframe thead th {\n",
       "        text-align: right;\n",
       "    }\n",
       "</style>\n",
       "<table border=\"1\" class=\"dataframe\">\n",
       "  <thead>\n",
       "    <tr style=\"text-align: right;\">\n",
       "      <th></th>\n",
       "      <th>product_id</th>\n",
       "      <th>category_id</th>\n",
       "      <th>price</th>\n",
       "      <th>purchase_proba</th>\n",
       "    </tr>\n",
       "  </thead>\n",
       "  <tbody>\n",
       "    <tr>\n",
       "      <th>6904</th>\n",
       "      <td>4100346</td>\n",
       "      <td>2053013561218695907</td>\n",
       "      <td>392.809650</td>\n",
       "      <td>0.218746</td>\n",
       "    </tr>\n",
       "    <tr>\n",
       "      <th>4038</th>\n",
       "      <td>2601810</td>\n",
       "      <td>2053013563970159485</td>\n",
       "      <td>155.259458</td>\n",
       "      <td>0.213689</td>\n",
       "    </tr>\n",
       "    <tr>\n",
       "      <th>703</th>\n",
       "      <td>1004863</td>\n",
       "      <td>2053013555631882655</td>\n",
       "      <td>173.004043</td>\n",
       "      <td>0.194762</td>\n",
       "    </tr>\n",
       "    <tr>\n",
       "      <th>378</th>\n",
       "      <td>1004246</td>\n",
       "      <td>2053013555631882655</td>\n",
       "      <td>743.151695</td>\n",
       "      <td>0.171427</td>\n",
       "    </tr>\n",
       "    <tr>\n",
       "      <th>563</th>\n",
       "      <td>1004659</td>\n",
       "      <td>2053013555631882655</td>\n",
       "      <td>738.926172</td>\n",
       "      <td>0.168789</td>\n",
       "    </tr>\n",
       "    <tr>\n",
       "      <th>700</th>\n",
       "      <td>1004856</td>\n",
       "      <td>2053013555631882655</td>\n",
       "      <td>131.142246</td>\n",
       "      <td>0.167703</td>\n",
       "    </tr>\n",
       "    <tr>\n",
       "      <th>4750</th>\n",
       "      <td>2800476</td>\n",
       "      <td>2053013563835941749</td>\n",
       "      <td>172.080000</td>\n",
       "      <td>0.167442</td>\n",
       "    </tr>\n",
       "    <tr>\n",
       "      <th>20240</th>\n",
       "      <td>12706258</td>\n",
       "      <td>2053013553559896355</td>\n",
       "      <td>60.230000</td>\n",
       "      <td>0.160695</td>\n",
       "    </tr>\n",
       "    <tr>\n",
       "      <th>381</th>\n",
       "      <td>1004249</td>\n",
       "      <td>2053013555631882655</td>\n",
       "      <td>739.568116</td>\n",
       "      <td>0.126330</td>\n",
       "    </tr>\n",
       "    <tr>\n",
       "      <th>684</th>\n",
       "      <td>1004838</td>\n",
       "      <td>2053013555631882655</td>\n",
       "      <td>174.748446</td>\n",
       "      <td>0.120576</td>\n",
       "    </tr>\n",
       "  </tbody>\n",
       "</table>\n",
       "</div>"
      ],
      "text/plain": [
       "       product_id          category_id       price  purchase_proba\n",
       "6904      4100346  2053013561218695907  392.809650        0.218746\n",
       "4038      2601810  2053013563970159485  155.259458        0.213689\n",
       "703       1004863  2053013555631882655  173.004043        0.194762\n",
       "378       1004246  2053013555631882655  743.151695        0.171427\n",
       "563       1004659  2053013555631882655  738.926172        0.168789\n",
       "700       1004856  2053013555631882655  131.142246        0.167703\n",
       "4750      2800476  2053013563835941749  172.080000        0.167442\n",
       "20240    12706258  2053013553559896355   60.230000        0.160695\n",
       "381       1004249  2053013555631882655  739.568116        0.126330\n",
       "684       1004838  2053013555631882655  174.748446        0.120576"
      ]
     },
     "execution_count": 385,
     "metadata": {},
     "output_type": "execute_result"
    }
   ],
   "source": [
    "get_recommendation(550050854, model=model_load).head(10)"
   ]
  },
  {
   "cell_type": "code",
   "execution_count": 386,
   "id": "7a4f22dc-852d-457e-87d4-6fb000306414",
   "metadata": {},
   "outputs": [
    {
     "data": {
      "text/html": [
       "<div>\n",
       "<style scoped>\n",
       "    .dataframe tbody tr th:only-of-type {\n",
       "        vertical-align: middle;\n",
       "    }\n",
       "\n",
       "    .dataframe tbody tr th {\n",
       "        vertical-align: top;\n",
       "    }\n",
       "\n",
       "    .dataframe thead th {\n",
       "        text-align: right;\n",
       "    }\n",
       "</style>\n",
       "<table border=\"1\" class=\"dataframe\">\n",
       "  <thead>\n",
       "    <tr style=\"text-align: right;\">\n",
       "      <th></th>\n",
       "      <th>product_id</th>\n",
       "      <th>category_id</th>\n",
       "      <th>price</th>\n",
       "      <th>purchase_proba</th>\n",
       "    </tr>\n",
       "  </thead>\n",
       "  <tbody>\n",
       "    <tr>\n",
       "      <th>847</th>\n",
       "      <td>1005074</td>\n",
       "      <td>2053013555631882655</td>\n",
       "      <td>1188.910128</td>\n",
       "      <td>0.174015</td>\n",
       "    </tr>\n",
       "    <tr>\n",
       "      <th>916</th>\n",
       "      <td>1005144</td>\n",
       "      <td>2053013555631882655</td>\n",
       "      <td>1720.407530</td>\n",
       "      <td>0.170057</td>\n",
       "    </tr>\n",
       "    <tr>\n",
       "      <th>22811</th>\n",
       "      <td>13103656</td>\n",
       "      <td>2053013553526341921</td>\n",
       "      <td>270.280000</td>\n",
       "      <td>0.164640</td>\n",
       "    </tr>\n",
       "    <tr>\n",
       "      <th>41300</th>\n",
       "      <td>28300432</td>\n",
       "      <td>2053013566243472379</td>\n",
       "      <td>46.330000</td>\n",
       "      <td>0.131460</td>\n",
       "    </tr>\n",
       "    <tr>\n",
       "      <th>19296</th>\n",
       "      <td>12700716</td>\n",
       "      <td>2053013553559896355</td>\n",
       "      <td>40.930000</td>\n",
       "      <td>0.122681</td>\n",
       "    </tr>\n",
       "    <tr>\n",
       "      <th>...</th>\n",
       "      <td>...</td>\n",
       "      <td>...</td>\n",
       "      <td>...</td>\n",
       "      <td>...</td>\n",
       "    </tr>\n",
       "    <tr>\n",
       "      <th>787</th>\n",
       "      <td>1004990</td>\n",
       "      <td>2053013555631882655</td>\n",
       "      <td>253.171459</td>\n",
       "      <td>0.001422</td>\n",
       "    </tr>\n",
       "    <tr>\n",
       "      <th>8883</th>\n",
       "      <td>5100551</td>\n",
       "      <td>2053013553341792533</td>\n",
       "      <td>166.080331</td>\n",
       "      <td>0.001417</td>\n",
       "    </tr>\n",
       "    <tr>\n",
       "      <th>12705</th>\n",
       "      <td>7005394</td>\n",
       "      <td>2053013560346280633</td>\n",
       "      <td>163.883901</td>\n",
       "      <td>0.001398</td>\n",
       "    </tr>\n",
       "    <tr>\n",
       "      <th>757</th>\n",
       "      <td>1004946</td>\n",
       "      <td>2053013555631882655</td>\n",
       "      <td>738.895365</td>\n",
       "      <td>0.001359</td>\n",
       "    </tr>\n",
       "    <tr>\n",
       "      <th>842</th>\n",
       "      <td>1005069</td>\n",
       "      <td>2053013555631882655</td>\n",
       "      <td>301.907003</td>\n",
       "      <td>0.001194</td>\n",
       "    </tr>\n",
       "  </tbody>\n",
       "</table>\n",
       "<p>52230 rows × 4 columns</p>\n",
       "</div>"
      ],
      "text/plain": [
       "       product_id          category_id        price  purchase_proba\n",
       "847       1005074  2053013555631882655  1188.910128        0.174015\n",
       "916       1005144  2053013555631882655  1720.407530        0.170057\n",
       "22811    13103656  2053013553526341921   270.280000        0.164640\n",
       "41300    28300432  2053013566243472379    46.330000        0.131460\n",
       "19296    12700716  2053013553559896355    40.930000        0.122681\n",
       "...           ...                  ...          ...             ...\n",
       "787       1004990  2053013555631882655   253.171459        0.001422\n",
       "8883      5100551  2053013553341792533   166.080331        0.001417\n",
       "12705     7005394  2053013560346280633   163.883901        0.001398\n",
       "757       1004946  2053013555631882655   738.895365        0.001359\n",
       "842       1005069  2053013555631882655   301.907003        0.001194\n",
       "\n",
       "[52230 rows x 4 columns]"
      ]
     },
     "execution_count": 386,
     "metadata": {},
     "output_type": "execute_result"
    }
   ],
   "source": [
    "get_recommendation(0, model=model_load)"
   ]
  },
  {
   "cell_type": "code",
   "execution_count": null,
   "id": "40288fc7-44de-4933-9dc3-de5d9443f7f8",
   "metadata": {},
   "outputs": [],
   "source": []
  }
 ],
 "metadata": {
  "kernelspec": {
   "display_name": "Python 3 (ipykernel)",
   "language": "python",
   "name": "python3"
  },
  "language_info": {
   "codemirror_mode": {
    "name": "ipython",
    "version": 3
   },
   "file_extension": ".py",
   "mimetype": "text/x-python",
   "name": "python",
   "nbconvert_exporter": "python",
   "pygments_lexer": "ipython3",
   "version": "3.9.0"
  }
 },
 "nbformat": 4,
 "nbformat_minor": 5
}

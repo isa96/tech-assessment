{
 "cells": [
  {
   "cell_type": "code",
   "execution_count": 1,
   "id": "08f9d79b-c8a6-4eff-9881-3db12262cb49",
   "metadata": {},
   "outputs": [],
   "source": [
    "import pandas as pd"
   ]
  },
  {
   "cell_type": "code",
   "execution_count": 2,
   "id": "27c02ec1-2914-4b8d-b318-bc9c68d3f109",
   "metadata": {},
   "outputs": [],
   "source": [
    "customer_interactions = pd.read_csv('customer_interactions.csv')\n",
    "purchase_history = pd.read_csv('purchase_history.csv')\n",
    "product_details = pd.read_csv('product_details.csv')"
   ]
  },
  {
   "cell_type": "code",
   "execution_count": 3,
   "id": "deb86002-bc0a-4523-a367-0099c0b38d78",
   "metadata": {},
   "outputs": [
    {
     "name": "stdout",
     "output_type": "stream",
     "text": [
      "<class 'pandas.core.frame.DataFrame'>\n",
      "RangeIndex: 87229 entries, 0 to 87228\n",
      "Data columns (total 4 columns):\n",
      " #   Column        Non-Null Count  Dtype  \n",
      "---  ------        --------------  -----  \n",
      " 0   user_id       87229 non-null  int64  \n",
      " 1   page_views    87229 non-null  int64  \n",
      " 2   session_time  87229 non-null  float64\n",
      " 3   session_id    87229 non-null  object \n",
      "dtypes: float64(1), int64(2), object(1)\n",
      "memory usage: 2.7+ MB\n"
     ]
    }
   ],
   "source": [
    "customer_interactions.info()"
   ]
  },
  {
   "cell_type": "code",
   "execution_count": 4,
   "id": "b1f6105a-3b64-4261-85c4-98e98dcf5f60",
   "metadata": {},
   "outputs": [
    {
     "name": "stdout",
     "output_type": "stream",
     "text": [
      "<class 'pandas.core.frame.DataFrame'>\n",
      "RangeIndex: 276761 entries, 0 to 276760\n",
      "Data columns (total 5 columns):\n",
      " #   Column         Non-Null Count   Dtype \n",
      "---  ------         --------------   ----- \n",
      " 0   user_id        276761 non-null  int64 \n",
      " 1   product_id     276761 non-null  int64 \n",
      " 2   session_id     276761 non-null  object\n",
      " 3   purchase_date  276761 non-null  object\n",
      " 4   purchased      276761 non-null  int64 \n",
      "dtypes: int64(3), object(2)\n",
      "memory usage: 10.6+ MB\n"
     ]
    }
   ],
   "source": [
    "purchase_history.info()"
   ]
  },
  {
   "cell_type": "code",
   "execution_count": 5,
   "id": "d7b04acc-d167-4598-be4c-eb79380f4791",
   "metadata": {},
   "outputs": [
    {
     "name": "stdout",
     "output_type": "stream",
     "text": [
      "<class 'pandas.core.frame.DataFrame'>\n",
      "RangeIndex: 52230 entries, 0 to 52229\n",
      "Data columns (total 3 columns):\n",
      " #   Column       Non-Null Count  Dtype  \n",
      "---  ------       --------------  -----  \n",
      " 0   product_id   52230 non-null  int64  \n",
      " 1   category_id  52230 non-null  int64  \n",
      " 2   price        52230 non-null  float64\n",
      "dtypes: float64(1), int64(2)\n",
      "memory usage: 1.2 MB\n"
     ]
    }
   ],
   "source": [
    "product_details.info()"
   ]
  },
  {
   "cell_type": "code",
   "execution_count": 6,
   "id": "2c5e17e4-46dd-49fe-a491-448175b416ba",
   "metadata": {},
   "outputs": [
    {
     "data": {
      "text/plain": [
       "purchased\n",
       "0    269535\n",
       "1      7226\n",
       "Name: count, dtype: int64"
      ]
     },
     "execution_count": 6,
     "metadata": {},
     "output_type": "execute_result"
    }
   ],
   "source": [
    "purchase_history.purchased.value_counts()"
   ]
  },
  {
   "cell_type": "markdown",
   "id": "2430dc24-3dbb-4907-a92a-e70449f23924",
   "metadata": {},
   "source": [
    "# Data Preparation"
   ]
  },
  {
   "cell_type": "markdown",
   "id": "89d306e0-3b4e-4f1c-b4ad-28ef63e4ac08",
   "metadata": {},
   "source": [
    "### Feature Engineering"
   ]
  },
  {
   "cell_type": "code",
   "execution_count": 58,
   "id": "75d14711-52cb-44c4-8867-a8d9e8fe58f8",
   "metadata": {},
   "outputs": [
    {
     "data": {
      "text/html": [
       "<div>\n",
       "<style scoped>\n",
       "    .dataframe tbody tr th:only-of-type {\n",
       "        vertical-align: middle;\n",
       "    }\n",
       "\n",
       "    .dataframe tbody tr th {\n",
       "        vertical-align: top;\n",
       "    }\n",
       "\n",
       "    .dataframe thead th {\n",
       "        text-align: right;\n",
       "    }\n",
       "</style>\n",
       "<table border=\"1\" class=\"dataframe\">\n",
       "  <thead>\n",
       "    <tr style=\"text-align: right;\">\n",
       "      <th></th>\n",
       "      <th>user_id</th>\n",
       "      <th>product_id</th>\n",
       "      <th>session_id</th>\n",
       "      <th>purchase_date</th>\n",
       "      <th>purchased</th>\n",
       "      <th>page_views</th>\n",
       "      <th>session_time</th>\n",
       "      <th>category_id</th>\n",
       "      <th>price</th>\n",
       "    </tr>\n",
       "  </thead>\n",
       "  <tbody>\n",
       "    <tr>\n",
       "      <th>0</th>\n",
       "      <td>512749724</td>\n",
       "      <td>1000978</td>\n",
       "      <td>21db6fe3-b667-40cc-acde-63c0861c8bac</td>\n",
       "      <td>2019-10-31 08:49:59+00:00</td>\n",
       "      <td>0</td>\n",
       "      <td>7</td>\n",
       "      <td>1121.0</td>\n",
       "      <td>2053013555631882655</td>\n",
       "      <td>307.192</td>\n",
       "    </tr>\n",
       "    <tr>\n",
       "      <th>1</th>\n",
       "      <td>551539729</td>\n",
       "      <td>1000978</td>\n",
       "      <td>259156cd-39ce-4b52-be5c-112e82944cd7</td>\n",
       "      <td>2019-10-30 13:20:56+00:00</td>\n",
       "      <td>0</td>\n",
       "      <td>7</td>\n",
       "      <td>196.0</td>\n",
       "      <td>2053013555631882655</td>\n",
       "      <td>307.192</td>\n",
       "    </tr>\n",
       "    <tr>\n",
       "      <th>2</th>\n",
       "      <td>512641002</td>\n",
       "      <td>1000978</td>\n",
       "      <td>268cc02f-2c57-493e-8514-ea6ab50e3b1b</td>\n",
       "      <td>2019-10-27 03:22:27+00:00</td>\n",
       "      <td>0</td>\n",
       "      <td>2</td>\n",
       "      <td>87.0</td>\n",
       "      <td>2053013555631882655</td>\n",
       "      <td>307.192</td>\n",
       "    </tr>\n",
       "    <tr>\n",
       "      <th>3</th>\n",
       "      <td>551539729</td>\n",
       "      <td>1000978</td>\n",
       "      <td>40fee886-f23b-4025-be2b-286f05fbdc78</td>\n",
       "      <td>2019-10-25 14:05:42+00:00</td>\n",
       "      <td>0</td>\n",
       "      <td>16</td>\n",
       "      <td>653.0</td>\n",
       "      <td>2053013555631882655</td>\n",
       "      <td>307.192</td>\n",
       "    </tr>\n",
       "    <tr>\n",
       "      <th>4</th>\n",
       "      <td>529216566</td>\n",
       "      <td>1000978</td>\n",
       "      <td>5331aada-6a85-402a-bfe3-21976b6d1c2a</td>\n",
       "      <td>2019-10-22 15:30:31+00:00</td>\n",
       "      <td>0</td>\n",
       "      <td>18</td>\n",
       "      <td>381.0</td>\n",
       "      <td>2053013555631882655</td>\n",
       "      <td>307.192</td>\n",
       "    </tr>\n",
       "    <tr>\n",
       "      <th>...</th>\n",
       "      <td>...</td>\n",
       "      <td>...</td>\n",
       "      <td>...</td>\n",
       "      <td>...</td>\n",
       "      <td>...</td>\n",
       "      <td>...</td>\n",
       "      <td>...</td>\n",
       "      <td>...</td>\n",
       "      <td>...</td>\n",
       "    </tr>\n",
       "    <tr>\n",
       "      <th>276755</th>\n",
       "      <td>512694680</td>\n",
       "      <td>60500002</td>\n",
       "      <td>2c48e74e-d100-4fd3-bc03-1f73f56ad592</td>\n",
       "      <td>2019-10-27 05:29:17+00:00</td>\n",
       "      <td>0</td>\n",
       "      <td>11</td>\n",
       "      <td>1075.0</td>\n",
       "      <td>2162513070503494350</td>\n",
       "      <td>42.190</td>\n",
       "    </tr>\n",
       "    <tr>\n",
       "      <th>276756</th>\n",
       "      <td>512684520</td>\n",
       "      <td>60500002</td>\n",
       "      <td>958883de-b352-4219-81b9-5b819d3d7810</td>\n",
       "      <td>2019-10-30 17:23:43+00:00</td>\n",
       "      <td>0</td>\n",
       "      <td>4</td>\n",
       "      <td>85.0</td>\n",
       "      <td>2162513070503494350</td>\n",
       "      <td>42.190</td>\n",
       "    </tr>\n",
       "    <tr>\n",
       "      <th>276757</th>\n",
       "      <td>519178692</td>\n",
       "      <td>60500002</td>\n",
       "      <td>b48fd7f4-2225-4a87-9823-dbf33edcb250</td>\n",
       "      <td>2019-10-30 18:12:11+00:00</td>\n",
       "      <td>0</td>\n",
       "      <td>3</td>\n",
       "      <td>140.0</td>\n",
       "      <td>2162513070503494350</td>\n",
       "      <td>42.190</td>\n",
       "    </tr>\n",
       "    <tr>\n",
       "      <th>276758</th>\n",
       "      <td>516187142</td>\n",
       "      <td>60500002</td>\n",
       "      <td>eceb3971-a847-41b0-9600-73a847792af0</td>\n",
       "      <td>2019-10-25 15:11:18+00:00</td>\n",
       "      <td>0</td>\n",
       "      <td>30</td>\n",
       "      <td>1849.0</td>\n",
       "      <td>2162513070503494350</td>\n",
       "      <td>42.190</td>\n",
       "    </tr>\n",
       "    <tr>\n",
       "      <th>276759</th>\n",
       "      <td>513411503</td>\n",
       "      <td>60500007</td>\n",
       "      <td>e6351225-75b4-4a76-9217-a2b4e6152214</td>\n",
       "      <td>2019-10-25 13:39:13+00:00</td>\n",
       "      <td>0</td>\n",
       "      <td>49</td>\n",
       "      <td>8232.0</td>\n",
       "      <td>2162513070503494350</td>\n",
       "      <td>0.000</td>\n",
       "    </tr>\n",
       "  </tbody>\n",
       "</table>\n",
       "<p>276760 rows × 9 columns</p>\n",
       "</div>"
      ],
      "text/plain": [
       "          user_id  product_id                            session_id  \\\n",
       "0       512749724     1000978  21db6fe3-b667-40cc-acde-63c0861c8bac   \n",
       "1       551539729     1000978  259156cd-39ce-4b52-be5c-112e82944cd7   \n",
       "2       512641002     1000978  268cc02f-2c57-493e-8514-ea6ab50e3b1b   \n",
       "3       551539729     1000978  40fee886-f23b-4025-be2b-286f05fbdc78   \n",
       "4       529216566     1000978  5331aada-6a85-402a-bfe3-21976b6d1c2a   \n",
       "...           ...         ...                                   ...   \n",
       "276755  512694680    60500002  2c48e74e-d100-4fd3-bc03-1f73f56ad592   \n",
       "276756  512684520    60500002  958883de-b352-4219-81b9-5b819d3d7810   \n",
       "276757  519178692    60500002  b48fd7f4-2225-4a87-9823-dbf33edcb250   \n",
       "276758  516187142    60500002  eceb3971-a847-41b0-9600-73a847792af0   \n",
       "276759  513411503    60500007  e6351225-75b4-4a76-9217-a2b4e6152214   \n",
       "\n",
       "                    purchase_date  purchased  page_views  session_time  \\\n",
       "0       2019-10-31 08:49:59+00:00          0           7        1121.0   \n",
       "1       2019-10-30 13:20:56+00:00          0           7         196.0   \n",
       "2       2019-10-27 03:22:27+00:00          0           2          87.0   \n",
       "3       2019-10-25 14:05:42+00:00          0          16         653.0   \n",
       "4       2019-10-22 15:30:31+00:00          0          18         381.0   \n",
       "...                           ...        ...         ...           ...   \n",
       "276755  2019-10-27 05:29:17+00:00          0          11        1075.0   \n",
       "276756  2019-10-30 17:23:43+00:00          0           4          85.0   \n",
       "276757  2019-10-30 18:12:11+00:00          0           3         140.0   \n",
       "276758  2019-10-25 15:11:18+00:00          0          30        1849.0   \n",
       "276759  2019-10-25 13:39:13+00:00          0          49        8232.0   \n",
       "\n",
       "                category_id    price  \n",
       "0       2053013555631882655  307.192  \n",
       "1       2053013555631882655  307.192  \n",
       "2       2053013555631882655  307.192  \n",
       "3       2053013555631882655  307.192  \n",
       "4       2053013555631882655  307.192  \n",
       "...                     ...      ...  \n",
       "276755  2162513070503494350   42.190  \n",
       "276756  2162513070503494350   42.190  \n",
       "276757  2162513070503494350   42.190  \n",
       "276758  2162513070503494350   42.190  \n",
       "276759  2162513070503494350    0.000  \n",
       "\n",
       "[276760 rows x 9 columns]"
      ]
     },
     "execution_count": 58,
     "metadata": {},
     "output_type": "execute_result"
    }
   ],
   "source": [
    "data = purchase_history.merge(customer_interactions)\n",
    "data = data.merge(product_details)\n",
    "data"
   ]
  },
  {
   "cell_type": "code",
   "execution_count": 59,
   "id": "feabb59a-44f5-4249-9910-560e69363371",
   "metadata": {},
   "outputs": [
    {
     "data": {
      "text/html": [
       "<div>\n",
       "<style scoped>\n",
       "    .dataframe tbody tr th:only-of-type {\n",
       "        vertical-align: middle;\n",
       "    }\n",
       "\n",
       "    .dataframe tbody tr th {\n",
       "        vertical-align: top;\n",
       "    }\n",
       "\n",
       "    .dataframe thead th {\n",
       "        text-align: right;\n",
       "    }\n",
       "</style>\n",
       "<table border=\"1\" class=\"dataframe\">\n",
       "  <thead>\n",
       "    <tr style=\"text-align: right;\">\n",
       "      <th></th>\n",
       "      <th>user_id</th>\n",
       "      <th>product_id</th>\n",
       "      <th>session_id</th>\n",
       "      <th>purchase_date</th>\n",
       "      <th>purchased</th>\n",
       "      <th>page_views</th>\n",
       "      <th>session_time</th>\n",
       "      <th>category_id</th>\n",
       "      <th>price</th>\n",
       "    </tr>\n",
       "  </thead>\n",
       "  <tbody>\n",
       "    <tr>\n",
       "      <th>0</th>\n",
       "      <td>512749724</td>\n",
       "      <td>1000978</td>\n",
       "      <td>21db6fe3-b667-40cc-acde-63c0861c8bac</td>\n",
       "      <td>2019-10-31 08:49:59+00:00</td>\n",
       "      <td>0</td>\n",
       "      <td>7</td>\n",
       "      <td>1121.0</td>\n",
       "      <td>2053013555631882655</td>\n",
       "      <td>307.192</td>\n",
       "    </tr>\n",
       "    <tr>\n",
       "      <th>1</th>\n",
       "      <td>551539729</td>\n",
       "      <td>1000978</td>\n",
       "      <td>259156cd-39ce-4b52-be5c-112e82944cd7</td>\n",
       "      <td>2019-10-30 13:20:56+00:00</td>\n",
       "      <td>0</td>\n",
       "      <td>7</td>\n",
       "      <td>196.0</td>\n",
       "      <td>2053013555631882655</td>\n",
       "      <td>307.192</td>\n",
       "    </tr>\n",
       "    <tr>\n",
       "      <th>2</th>\n",
       "      <td>512641002</td>\n",
       "      <td>1000978</td>\n",
       "      <td>268cc02f-2c57-493e-8514-ea6ab50e3b1b</td>\n",
       "      <td>2019-10-27 03:22:27+00:00</td>\n",
       "      <td>0</td>\n",
       "      <td>2</td>\n",
       "      <td>87.0</td>\n",
       "      <td>2053013555631882655</td>\n",
       "      <td>307.192</td>\n",
       "    </tr>\n",
       "    <tr>\n",
       "      <th>3</th>\n",
       "      <td>551539729</td>\n",
       "      <td>1000978</td>\n",
       "      <td>40fee886-f23b-4025-be2b-286f05fbdc78</td>\n",
       "      <td>2019-10-25 14:05:42+00:00</td>\n",
       "      <td>0</td>\n",
       "      <td>16</td>\n",
       "      <td>653.0</td>\n",
       "      <td>2053013555631882655</td>\n",
       "      <td>307.192</td>\n",
       "    </tr>\n",
       "    <tr>\n",
       "      <th>4</th>\n",
       "      <td>529216566</td>\n",
       "      <td>1000978</td>\n",
       "      <td>5331aada-6a85-402a-bfe3-21976b6d1c2a</td>\n",
       "      <td>2019-10-22 15:30:31+00:00</td>\n",
       "      <td>0</td>\n",
       "      <td>18</td>\n",
       "      <td>381.0</td>\n",
       "      <td>2053013555631882655</td>\n",
       "      <td>307.192</td>\n",
       "    </tr>\n",
       "    <tr>\n",
       "      <th>...</th>\n",
       "      <td>...</td>\n",
       "      <td>...</td>\n",
       "      <td>...</td>\n",
       "      <td>...</td>\n",
       "      <td>...</td>\n",
       "      <td>...</td>\n",
       "      <td>...</td>\n",
       "      <td>...</td>\n",
       "      <td>...</td>\n",
       "    </tr>\n",
       "    <tr>\n",
       "      <th>276755</th>\n",
       "      <td>512694680</td>\n",
       "      <td>60500002</td>\n",
       "      <td>2c48e74e-d100-4fd3-bc03-1f73f56ad592</td>\n",
       "      <td>2019-10-27 05:29:17+00:00</td>\n",
       "      <td>0</td>\n",
       "      <td>11</td>\n",
       "      <td>1075.0</td>\n",
       "      <td>2162513070503494350</td>\n",
       "      <td>42.190</td>\n",
       "    </tr>\n",
       "    <tr>\n",
       "      <th>276756</th>\n",
       "      <td>512684520</td>\n",
       "      <td>60500002</td>\n",
       "      <td>958883de-b352-4219-81b9-5b819d3d7810</td>\n",
       "      <td>2019-10-30 17:23:43+00:00</td>\n",
       "      <td>0</td>\n",
       "      <td>4</td>\n",
       "      <td>85.0</td>\n",
       "      <td>2162513070503494350</td>\n",
       "      <td>42.190</td>\n",
       "    </tr>\n",
       "    <tr>\n",
       "      <th>276757</th>\n",
       "      <td>519178692</td>\n",
       "      <td>60500002</td>\n",
       "      <td>b48fd7f4-2225-4a87-9823-dbf33edcb250</td>\n",
       "      <td>2019-10-30 18:12:11+00:00</td>\n",
       "      <td>0</td>\n",
       "      <td>3</td>\n",
       "      <td>140.0</td>\n",
       "      <td>2162513070503494350</td>\n",
       "      <td>42.190</td>\n",
       "    </tr>\n",
       "    <tr>\n",
       "      <th>276758</th>\n",
       "      <td>516187142</td>\n",
       "      <td>60500002</td>\n",
       "      <td>eceb3971-a847-41b0-9600-73a847792af0</td>\n",
       "      <td>2019-10-25 15:11:18+00:00</td>\n",
       "      <td>0</td>\n",
       "      <td>30</td>\n",
       "      <td>1849.0</td>\n",
       "      <td>2162513070503494350</td>\n",
       "      <td>42.190</td>\n",
       "    </tr>\n",
       "    <tr>\n",
       "      <th>276759</th>\n",
       "      <td>513411503</td>\n",
       "      <td>60500007</td>\n",
       "      <td>e6351225-75b4-4a76-9217-a2b4e6152214</td>\n",
       "      <td>2019-10-25 13:39:13+00:00</td>\n",
       "      <td>0</td>\n",
       "      <td>49</td>\n",
       "      <td>8232.0</td>\n",
       "      <td>2162513070503494350</td>\n",
       "      <td>0.000</td>\n",
       "    </tr>\n",
       "  </tbody>\n",
       "</table>\n",
       "<p>276760 rows × 9 columns</p>\n",
       "</div>"
      ],
      "text/plain": [
       "          user_id  product_id                            session_id  \\\n",
       "0       512749724     1000978  21db6fe3-b667-40cc-acde-63c0861c8bac   \n",
       "1       551539729     1000978  259156cd-39ce-4b52-be5c-112e82944cd7   \n",
       "2       512641002     1000978  268cc02f-2c57-493e-8514-ea6ab50e3b1b   \n",
       "3       551539729     1000978  40fee886-f23b-4025-be2b-286f05fbdc78   \n",
       "4       529216566     1000978  5331aada-6a85-402a-bfe3-21976b6d1c2a   \n",
       "...           ...         ...                                   ...   \n",
       "276755  512694680    60500002  2c48e74e-d100-4fd3-bc03-1f73f56ad592   \n",
       "276756  512684520    60500002  958883de-b352-4219-81b9-5b819d3d7810   \n",
       "276757  519178692    60500002  b48fd7f4-2225-4a87-9823-dbf33edcb250   \n",
       "276758  516187142    60500002  eceb3971-a847-41b0-9600-73a847792af0   \n",
       "276759  513411503    60500007  e6351225-75b4-4a76-9217-a2b4e6152214   \n",
       "\n",
       "                    purchase_date  purchased  page_views  session_time  \\\n",
       "0       2019-10-31 08:49:59+00:00          0           7        1121.0   \n",
       "1       2019-10-30 13:20:56+00:00          0           7         196.0   \n",
       "2       2019-10-27 03:22:27+00:00          0           2          87.0   \n",
       "3       2019-10-25 14:05:42+00:00          0          16         653.0   \n",
       "4       2019-10-22 15:30:31+00:00          0          18         381.0   \n",
       "...                           ...        ...         ...           ...   \n",
       "276755  2019-10-27 05:29:17+00:00          0          11        1075.0   \n",
       "276756  2019-10-30 17:23:43+00:00          0           4          85.0   \n",
       "276757  2019-10-30 18:12:11+00:00          0           3         140.0   \n",
       "276758  2019-10-25 15:11:18+00:00          0          30        1849.0   \n",
       "276759  2019-10-25 13:39:13+00:00          0          49        8232.0   \n",
       "\n",
       "                category_id    price  \n",
       "0       2053013555631882655  307.192  \n",
       "1       2053013555631882655  307.192  \n",
       "2       2053013555631882655  307.192  \n",
       "3       2053013555631882655  307.192  \n",
       "4       2053013555631882655  307.192  \n",
       "...                     ...      ...  \n",
       "276755  2162513070503494350   42.190  \n",
       "276756  2162513070503494350   42.190  \n",
       "276757  2162513070503494350   42.190  \n",
       "276758  2162513070503494350   42.190  \n",
       "276759  2162513070503494350    0.000  \n",
       "\n",
       "[276760 rows x 9 columns]"
      ]
     },
     "execution_count": 59,
     "metadata": {},
     "output_type": "execute_result"
    }
   ],
   "source": [
    "data['user_id'] = data['user_id'].astype(int)\n",
    "data['product_id'] = data['product_id'].astype(int)\n",
    "data"
   ]
  },
  {
   "cell_type": "code",
   "execution_count": 60,
   "id": "8d37d575-2562-426d-8940-b82c7a3fab73",
   "metadata": {},
   "outputs": [],
   "source": [
    "import numpy as np\n",
    "import tensorflow as tf\n",
    "# import tensorflow_datasets as tfds\n",
    "\n",
    "import tensorflow_recommenders as tfrs"
   ]
  },
  {
   "cell_type": "code",
   "execution_count": 61,
   "id": "0ae4044a-1459-43ea-89b6-23860fed0ccd",
   "metadata": {},
   "outputs": [
    {
     "name": "stdout",
     "output_type": "stream",
     "text": [
      "num of users: 10000\n",
      "num of products: 52229\n"
     ]
    }
   ],
   "source": [
    "n_products = data.product_id.nunique()\n",
    "n_users = data.user_id.nunique()\n",
    "\n",
    "unique_products = list(data.product_id.unique())\n",
    "unique_users = list(data.user_id.unique())\n",
    "\n",
    "print('num of users:', n_users)\n",
    "print('num of products:', n_products)"
   ]
  },
  {
   "cell_type": "code",
   "execution_count": 62,
   "id": "4198ff54-c4b6-486c-9029-a43728c8d31c",
   "metadata": {},
   "outputs": [
    {
     "data": {
      "text/plain": [
       "numpy.int32"
      ]
     },
     "execution_count": 62,
     "metadata": {},
     "output_type": "execute_result"
    }
   ],
   "source": [
    "type(unique_products[0])"
   ]
  },
  {
   "cell_type": "code",
   "execution_count": 63,
   "id": "4c7d2f5d-8a64-44ae-82ee-a0e049fded1a",
   "metadata": {},
   "outputs": [],
   "source": [
    "from sklearn.model_selection import train_test_split\n",
    "\n",
    "train, test = train_test_split(data, test_size=0.2)"
   ]
  },
  {
   "cell_type": "code",
   "execution_count": 64,
   "id": "12b1be3e-2336-430b-84e2-a3f8ac3021e7",
   "metadata": {},
   "outputs": [
    {
     "name": "stdout",
     "output_type": "stream",
     "text": [
      "(221408, 9)\n",
      "(55352, 9)\n"
     ]
    }
   ],
   "source": [
    "print(train.shape)\n",
    "print(test.shape)"
   ]
  },
  {
   "cell_type": "code",
   "execution_count": 65,
   "id": "be1c45ad-75ab-41ad-9cb5-175fcf543711",
   "metadata": {},
   "outputs": [
    {
     "data": {
      "text/html": [
       "<div>\n",
       "<style scoped>\n",
       "    .dataframe tbody tr th:only-of-type {\n",
       "        vertical-align: middle;\n",
       "    }\n",
       "\n",
       "    .dataframe tbody tr th {\n",
       "        vertical-align: top;\n",
       "    }\n",
       "\n",
       "    .dataframe thead th {\n",
       "        text-align: right;\n",
       "    }\n",
       "</style>\n",
       "<table border=\"1\" class=\"dataframe\">\n",
       "  <thead>\n",
       "    <tr style=\"text-align: right;\">\n",
       "      <th></th>\n",
       "      <th>user_id</th>\n",
       "      <th>product_id</th>\n",
       "      <th>session_id</th>\n",
       "      <th>purchase_date</th>\n",
       "      <th>purchased</th>\n",
       "      <th>page_views</th>\n",
       "      <th>session_time</th>\n",
       "      <th>category_id</th>\n",
       "      <th>price</th>\n",
       "    </tr>\n",
       "  </thead>\n",
       "  <tbody>\n",
       "    <tr>\n",
       "      <th>217028</th>\n",
       "      <td>515810827</td>\n",
       "      <td>23000034</td>\n",
       "      <td>4bda7ab6-9dd7-4a1e-b7e1-e36de2d041ea</td>\n",
       "      <td>2019-10-13 14:43:00+00:00</td>\n",
       "      <td>0</td>\n",
       "      <td>7</td>\n",
       "      <td>323.0</td>\n",
       "      <td>2053013553459233053</td>\n",
       "      <td>6.690000</td>\n",
       "    </tr>\n",
       "    <tr>\n",
       "      <th>59321</th>\n",
       "      <td>516092277</td>\n",
       "      <td>1005156</td>\n",
       "      <td>3c49a3aa-b650-46b9-9d69-07c92991d3d0</td>\n",
       "      <td>2019-10-18 14:59:29+00:00</td>\n",
       "      <td>0</td>\n",
       "      <td>22</td>\n",
       "      <td>804.0</td>\n",
       "      <td>2053013555631882655</td>\n",
       "      <td>325.455394</td>\n",
       "    </tr>\n",
       "    <tr>\n",
       "      <th>156833</th>\n",
       "      <td>515016969</td>\n",
       "      <td>11100221</td>\n",
       "      <td>688bd22a-1539-4fd9-8af4-6a03c3e2a786</td>\n",
       "      <td>2019-10-06 20:19:31+00:00</td>\n",
       "      <td>0</td>\n",
       "      <td>20</td>\n",
       "      <td>698.0</td>\n",
       "      <td>2053013555036291451</td>\n",
       "      <td>20.035000</td>\n",
       "    </tr>\n",
       "    <tr>\n",
       "      <th>77944</th>\n",
       "      <td>539456237</td>\n",
       "      <td>1701406</td>\n",
       "      <td>e496de7d-7fa3-4d85-bcbe-97f2d2916451</td>\n",
       "      <td>2019-10-17 16:54:06+00:00</td>\n",
       "      <td>0</td>\n",
       "      <td>11</td>\n",
       "      <td>460.0</td>\n",
       "      <td>2053013553031414015</td>\n",
       "      <td>281.271429</td>\n",
       "    </tr>\n",
       "    <tr>\n",
       "      <th>244984</th>\n",
       "      <td>518518709</td>\n",
       "      <td>28712565</td>\n",
       "      <td>a3badfa4-2d35-435b-84db-217944961c69</td>\n",
       "      <td>2019-10-24 16:55:44+00:00</td>\n",
       "      <td>0</td>\n",
       "      <td>8</td>\n",
       "      <td>341.0</td>\n",
       "      <td>2053013565782098913</td>\n",
       "      <td>102.710000</td>\n",
       "    </tr>\n",
       "  </tbody>\n",
       "</table>\n",
       "</div>"
      ],
      "text/plain": [
       "          user_id  product_id                            session_id  \\\n",
       "217028  515810827    23000034  4bda7ab6-9dd7-4a1e-b7e1-e36de2d041ea   \n",
       "59321   516092277     1005156  3c49a3aa-b650-46b9-9d69-07c92991d3d0   \n",
       "156833  515016969    11100221  688bd22a-1539-4fd9-8af4-6a03c3e2a786   \n",
       "77944   539456237     1701406  e496de7d-7fa3-4d85-bcbe-97f2d2916451   \n",
       "244984  518518709    28712565  a3badfa4-2d35-435b-84db-217944961c69   \n",
       "\n",
       "                    purchase_date  purchased  page_views  session_time  \\\n",
       "217028  2019-10-13 14:43:00+00:00          0           7         323.0   \n",
       "59321   2019-10-18 14:59:29+00:00          0          22         804.0   \n",
       "156833  2019-10-06 20:19:31+00:00          0          20         698.0   \n",
       "77944   2019-10-17 16:54:06+00:00          0          11         460.0   \n",
       "244984  2019-10-24 16:55:44+00:00          0           8         341.0   \n",
       "\n",
       "                category_id       price  \n",
       "217028  2053013553459233053    6.690000  \n",
       "59321   2053013555631882655  325.455394  \n",
       "156833  2053013555036291451   20.035000  \n",
       "77944   2053013553031414015  281.271429  \n",
       "244984  2053013565782098913  102.710000  "
      ]
     },
     "execution_count": 65,
     "metadata": {},
     "output_type": "execute_result"
    }
   ],
   "source": [
    "train.head()"
   ]
  },
  {
   "cell_type": "code",
   "execution_count": 66,
   "id": "0e8530bc-3d2f-4837-b277-dc92d5ec3c12",
   "metadata": {},
   "outputs": [
    {
     "name": "stdout",
     "output_type": "stream",
     "text": [
      "<class 'pandas.core.frame.DataFrame'>\n",
      "Index: 221408 entries, 217028 to 177286\n",
      "Data columns (total 9 columns):\n",
      " #   Column         Non-Null Count   Dtype  \n",
      "---  ------         --------------   -----  \n",
      " 0   user_id        221408 non-null  int32  \n",
      " 1   product_id     221408 non-null  int32  \n",
      " 2   session_id     221408 non-null  object \n",
      " 3   purchase_date  221408 non-null  object \n",
      " 4   purchased      221408 non-null  int64  \n",
      " 5   page_views     221408 non-null  int64  \n",
      " 6   session_time   221408 non-null  float64\n",
      " 7   category_id    221408 non-null  int64  \n",
      " 8   price          221408 non-null  float64\n",
      "dtypes: float64(2), int32(2), int64(3), object(2)\n",
      "memory usage: 15.2+ MB\n"
     ]
    }
   ],
   "source": [
    "train.info()"
   ]
  },
  {
   "cell_type": "markdown",
   "id": "53590a35-134b-4699-a844-e7651fe872ea",
   "metadata": {},
   "source": [
    "### WandB Setup"
   ]
  },
  {
   "cell_type": "code",
   "execution_count": 67,
   "id": "47b512dd-a42d-43cd-8ce1-ffc2f3fd676d",
   "metadata": {
    "scrolled": true
   },
   "outputs": [],
   "source": [
    "# !pip install wandb"
   ]
  },
  {
   "cell_type": "code",
   "execution_count": 68,
   "id": "781d9e94-df84-4019-91de-9a9e186cf33c",
   "metadata": {},
   "outputs": [
    {
     "name": "stderr",
     "output_type": "stream",
     "text": [
      "wandb: Currently logged in as: manfredmichael (nodeflux-internship). Use `wandb login --relogin` to force relogin\n"
     ]
    }
   ],
   "source": [
    "!wandb login "
   ]
  },
  {
   "cell_type": "markdown",
   "id": "7d915ec6-af23-4a36-b129-372fa5d6828a",
   "metadata": {},
   "source": [
    "### Model Building"
   ]
  },
  {
   "cell_type": "code",
   "execution_count": 69,
   "id": "7506f760-feff-4418-95a8-e71bb4dabd64",
   "metadata": {},
   "outputs": [
    {
     "data": {
      "text/html": [
       "Finishing last run (ID:92jfi4sb) before initializing another..."
      ],
      "text/plain": [
       "<IPython.core.display.HTML object>"
      ]
     },
     "metadata": {},
     "output_type": "display_data"
    },
    {
     "data": {
      "text/html": [
       " View run <strong style=\"color:#cdcd00\">lively-darkness-2</strong> at: <a href='https://wandb.ai/nodeflux-internship/skilvul-tech-assessment/runs/92jfi4sb' target=\"_blank\">https://wandb.ai/nodeflux-internship/skilvul-tech-assessment/runs/92jfi4sb</a><br/>Synced 5 W&B file(s), 0 media file(s), 0 artifact file(s) and 0 other file(s)"
      ],
      "text/plain": [
       "<IPython.core.display.HTML object>"
      ]
     },
     "metadata": {},
     "output_type": "display_data"
    },
    {
     "data": {
      "text/html": [
       "Find logs at: <code>.\\wandb\\run-20240303_201947-92jfi4sb\\logs</code>"
      ],
      "text/plain": [
       "<IPython.core.display.HTML object>"
      ]
     },
     "metadata": {},
     "output_type": "display_data"
    },
    {
     "data": {
      "text/html": [
       "Successfully finished last run (ID:92jfi4sb). Initializing new run:<br/>"
      ],
      "text/plain": [
       "<IPython.core.display.HTML object>"
      ]
     },
     "metadata": {},
     "output_type": "display_data"
    },
    {
     "data": {
      "text/html": [
       "Tracking run with wandb version 0.16.3"
      ],
      "text/plain": [
       "<IPython.core.display.HTML object>"
      ]
     },
     "metadata": {},
     "output_type": "display_data"
    },
    {
     "data": {
      "text/html": [
       "Run data is saved locally in <code>C:\\Users\\manfr\\Projects\\skilvul-test\\model-training\\wandb\\run-20240303_202153-h7vg62qx</code>"
      ],
      "text/plain": [
       "<IPython.core.display.HTML object>"
      ]
     },
     "metadata": {},
     "output_type": "display_data"
    },
    {
     "data": {
      "text/html": [
       "Syncing run <strong><a href='https://wandb.ai/nodeflux-internship/skilvul-tech-assessment/runs/h7vg62qx' target=\"_blank\">peachy-bee-3</a></strong> to <a href='https://wandb.ai/nodeflux-internship/skilvul-tech-assessment' target=\"_blank\">Weights & Biases</a> (<a href='https://wandb.me/run' target=\"_blank\">docs</a>)<br/>"
      ],
      "text/plain": [
       "<IPython.core.display.HTML object>"
      ]
     },
     "metadata": {},
     "output_type": "display_data"
    },
    {
     "data": {
      "text/html": [
       " View project at <a href='https://wandb.ai/nodeflux-internship/skilvul-tech-assessment' target=\"_blank\">https://wandb.ai/nodeflux-internship/skilvul-tech-assessment</a>"
      ],
      "text/plain": [
       "<IPython.core.display.HTML object>"
      ]
     },
     "metadata": {},
     "output_type": "display_data"
    },
    {
     "data": {
      "text/html": [
       " View run at <a href='https://wandb.ai/nodeflux-internship/skilvul-tech-assessment/runs/h7vg62qx' target=\"_blank\">https://wandb.ai/nodeflux-internship/skilvul-tech-assessment/runs/h7vg62qx</a>"
      ],
      "text/plain": [
       "<IPython.core.display.HTML object>"
      ]
     },
     "metadata": {},
     "output_type": "display_data"
    }
   ],
   "source": [
    "import wandb\n",
    "import random\n",
    "from wandb.keras import WandbMetricsLogger, WandbModelCheckpoint\n",
    "\n",
    "from tensorflow.keras.optimizers import Adam\n",
    "\n",
    "wandb.init(\n",
    "    # set the wandb project where this run will be logged\n",
    "    project=\"skilvul-tech-assessment\",\n",
    "\n",
    "    # track hyperparameters and run metadata with wandb.config\n",
    "    config={\n",
    "        \"desc\": \"with session context\",\n",
    "        \"embedding\": 8,\n",
    "        \"dropout\": 0.1,\n",
    "        \"num_of_deep_layers\": 4,\n",
    "    }\n",
    ")\n",
    "\n",
    "config = wandb.config"
   ]
  },
  {
   "cell_type": "code",
   "execution_count": 70,
   "id": "de4462ac-3e1f-46a5-a11e-543c15f964a3",
   "metadata": {},
   "outputs": [],
   "source": [
    "from tensorflow.keras.models import Model, Sequential \n",
    "from tensorflow.keras.layers import Input, Embedding, Dot, Flatten, Dense, concatenate, Dropout\n",
    "from tensorflow.keras.activations import sigmoid\n",
    "\n",
    "EMBEDDING_DIM = config.embedding\n",
    "\n",
    "# WIDE MODEL\n",
    "wide_model = Sequential([Dense(EMBEDDING_DIM * 3, use_bias='false'),\n",
    "                         Dropout(config.dropout)])\n",
    "\n",
    "# DEEP MODEL\n",
    "deep_layers = []\n",
    "for i in range(config.num_of_deep_layers):\n",
    "    deep_layers += [Dense(EMBEDDING_DIM, activation='relu', use_bias='false'), Dropout(config.dropout)]\n",
    "              \n",
    "deep_model = Sequential(deep_layers)\n",
    "\n",
    "# input layers\n",
    "product_input = Input(shape=[1], name='product_id')\n",
    "user_input = Input(shape=[1], name='user_id')\n",
    "\n",
    "page_views_input = Input(shape=[1], name='page_views')\n",
    "session_time_input = Input(shape=[1], name='session_time')\n",
    "\n",
    "price_input = Input(shape=[1], name='price')\n",
    "\n",
    "session_context = concatenate([price_input, page_views_input, session_time_input])\n",
    "session_context = tf.keras.layers.BatchNormalization()(session_context)\n",
    "\n",
    "product_input_int = tf.keras.layers.IntegerLookup(vocabulary=unique_products, num_oov_indices=1, mask_token=None)(product_input)\n",
    "user_input_int = tf.keras.layers.IntegerLookup(vocabulary=unique_users, num_oov_indices=1, mask_token=None)(user_input)\n",
    "\n",
    "# # Convert strings to integers\n",
    "# product_input_int = product_lookup(product_input)\n",
    "# user_input_int = user_lookup(user_input)\n",
    "\n",
    "# embedding layers \n",
    "product_embedding = Embedding(n_products+1, EMBEDDING_DIM)(product_input_int)\n",
    "user_embedding = Embedding(n_users+1, EMBEDDING_DIM)(user_input_int)\n",
    "\n",
    "# flatten the embeddings\n",
    "product_flat = Flatten()(product_embedding)\n",
    "user_flat = Flatten()(user_embedding)\n",
    "\n",
    "# wide and deep model\n",
    "concat = concatenate([product_flat, user_flat])\n",
    "wide_output = wide_model(concat)\n",
    "deep_output = deep_model(concat)\n",
    "\n",
    "# output layer\n",
    "concat_2 = concatenate([wide_output, deep_output, session_context])\n",
    "output = Dense(1, activation='sigmoid', use_bias='false')(concat_2)\n",
    "#output = sigmoid(Dot(1)([wide_output, deep_output]))\n",
    "\n",
    "# the model\n",
    "model = Model([product_input, user_input, page_views_input, session_time_input, price_input], [output])"
   ]
  },
  {
   "cell_type": "code",
   "execution_count": 71,
   "id": "8d66044d-3859-4723-8864-46ea58db3d20",
   "metadata": {},
   "outputs": [
    {
     "name": "stdout",
     "output_type": "stream",
     "text": [
      "Model: \"model_4\"\n",
      "__________________________________________________________________________________________________\n",
      " Layer (type)                Output Shape                 Param #   Connected to                  \n",
      "==================================================================================================\n",
      " product_id (InputLayer)     [(None, 1)]                  0         []                            \n",
      "                                                                                                  \n",
      " user_id (InputLayer)        [(None, 1)]                  0         []                            \n",
      "                                                                                                  \n",
      " integer_lookup_8 (IntegerL  (None, 1)                    0         ['product_id[0][0]']          \n",
      " ookup)                                                                                           \n",
      "                                                                                                  \n",
      " integer_lookup_9 (IntegerL  (None, 1)                    0         ['user_id[0][0]']             \n",
      " ookup)                                                                                           \n",
      "                                                                                                  \n",
      " embedding_8 (Embedding)     (None, 1, 8)                 417840    ['integer_lookup_8[0][0]']    \n",
      "                                                                                                  \n",
      " embedding_9 (Embedding)     (None, 1, 8)                 80008     ['integer_lookup_9[0][0]']    \n",
      "                                                                                                  \n",
      " flatten_8 (Flatten)         (None, 8)                    0         ['embedding_8[0][0]']         \n",
      "                                                                                                  \n",
      " flatten_9 (Flatten)         (None, 8)                    0         ['embedding_9[0][0]']         \n",
      "                                                                                                  \n",
      " price (InputLayer)          [(None, 1)]                  0         []                            \n",
      "                                                                                                  \n",
      " page_views (InputLayer)     [(None, 1)]                  0         []                            \n",
      "                                                                                                  \n",
      " session_time (InputLayer)   [(None, 1)]                  0         []                            \n",
      "                                                                                                  \n",
      " concatenate_10 (Concatenat  (None, 16)                   0         ['flatten_8[0][0]',           \n",
      " e)                                                                  'flatten_9[0][0]']           \n",
      "                                                                                                  \n",
      " concatenate_9 (Concatenate  (None, 3)                    0         ['price[0][0]',               \n",
      " )                                                                   'page_views[0][0]',          \n",
      "                                                                     'session_time[0][0]']        \n",
      "                                                                                                  \n",
      " sequential_8 (Sequential)   (None, 24)                   408       ['concatenate_10[0][0]']      \n",
      "                                                                                                  \n",
      " sequential_9 (Sequential)   (None, 8)                    352       ['concatenate_10[0][0]']      \n",
      "                                                                                                  \n",
      " batch_normalization_1 (Bat  (None, 3)                    12        ['concatenate_9[0][0]']       \n",
      " chNormalization)                                                                                 \n",
      "                                                                                                  \n",
      " concatenate_11 (Concatenat  (None, 35)                   0         ['sequential_8[0][0]',        \n",
      " e)                                                                  'sequential_9[0][0]',        \n",
      "                                                                     'batch_normalization_1[0][0]'\n",
      "                                                                    ]                             \n",
      "                                                                                                  \n",
      " dense_29 (Dense)            (None, 1)                    36        ['concatenate_11[0][0]']      \n",
      "                                                                                                  \n",
      "==================================================================================================\n",
      "Total params: 498656 (1.90 MB)\n",
      "Trainable params: 498650 (1.90 MB)\n",
      "Non-trainable params: 6 (24.00 Byte)\n",
      "__________________________________________________________________________________________________\n"
     ]
    }
   ],
   "source": [
    "model.summary()"
   ]
  },
  {
   "cell_type": "code",
   "execution_count": 72,
   "id": "cc2f09cb-1255-43e3-9e0a-8fc659fca354",
   "metadata": {},
   "outputs": [
    {
     "name": "stderr",
     "output_type": "stream",
     "text": [
      "WARNING:absl:`lr` is deprecated in Keras optimizer, please use `learning_rate` or use the legacy optimizer, e.g.,tf.keras.optimizers.legacy.Adam.\n"
     ]
    }
   ],
   "source": [
    "\n",
    "\n",
    "model.compile(optimizer=Adam(lr=1e-2), loss='binary_crossentropy', metrics=['accuracy',  tf.keras.metrics.Precision(), tf.keras.metrics.Recall(), \n",
    "                       tf.keras.metrics.AUC()])\n"
   ]
  },
  {
   "cell_type": "code",
   "execution_count": 73,
   "id": "87debfd7-03cc-491e-b8fb-56518e436c41",
   "metadata": {},
   "outputs": [
    {
     "name": "stdout",
     "output_type": "stream",
     "text": [
      "<class 'pandas.core.frame.DataFrame'>\n",
      "Index: 221408 entries, 217028 to 177286\n",
      "Data columns (total 9 columns):\n",
      " #   Column         Non-Null Count   Dtype  \n",
      "---  ------         --------------   -----  \n",
      " 0   user_id        221408 non-null  int32  \n",
      " 1   product_id     221408 non-null  int32  \n",
      " 2   session_id     221408 non-null  object \n",
      " 3   purchase_date  221408 non-null  object \n",
      " 4   purchased      221408 non-null  int64  \n",
      " 5   page_views     221408 non-null  int64  \n",
      " 6   session_time   221408 non-null  float64\n",
      " 7   category_id    221408 non-null  int64  \n",
      " 8   price          221408 non-null  float64\n",
      "dtypes: float64(2), int32(2), int64(3), object(2)\n",
      "memory usage: 15.2+ MB\n"
     ]
    }
   ],
   "source": [
    "train.info()"
   ]
  },
  {
   "cell_type": "code",
   "execution_count": 74,
   "id": "308af2a0-5129-44dc-9abf-aebf3a2fd3c1",
   "metadata": {},
   "outputs": [
    {
     "data": {
      "text/plain": [
       "Index(['user_id', 'product_id', 'session_id', 'purchase_date', 'purchased',\n",
       "       'page_views', 'session_time', 'category_id', 'price'],\n",
       "      dtype='object')"
      ]
     },
     "execution_count": 74,
     "metadata": {},
     "output_type": "execute_result"
    }
   ],
   "source": [
    "train.columns\n",
    "page_views_input, session_time_input, price_input"
   ]
  },
  {
   "cell_type": "code",
   "execution_count": 55,
   "id": "0af518e9-7e9d-48df-999e-e2e497e4191f",
   "metadata": {},
   "outputs": [
    {
     "name": "stdout",
     "output_type": "stream",
     "text": [
      " 6/28 [=====>........................] - ETA: 2s - loss: 0.6947 - accuracy: 0.4614 - precision_4: 0.0232 - recall_4: 0.5016 - auc_4: 0.4744WARNING:tensorflow:Callback method `on_train_batch_end` is slow compared to the batch time (batch time: 0.0241s vs `on_train_batch_end` time: 0.0808s). Check your callbacks.\n"
     ]
    },
    {
     "name": "stderr",
     "output_type": "stream",
     "text": [
      "WARNING:tensorflow:Callback method `on_train_batch_end` is slow compared to the batch time (batch time: 0.0241s vs `on_train_batch_end` time: 0.0808s). Check your callbacks.\n"
     ]
    },
    {
     "name": "stdout",
     "output_type": "stream",
     "text": [
      "28/28 [==============================] - ETA: 0s - loss: 0.6427 - accuracy: 0.8550 - precision_4: 0.0230 - recall_4: 0.1096 - auc_4: 0.4821INFO:tensorflow:Assets written to: models-initial\\assets\n"
     ]
    },
    {
     "name": "stderr",
     "output_type": "stream",
     "text": [
      "INFO:tensorflow:Assets written to: models-initial\\assets\n",
      "\u001b[34m\u001b[1mwandb\u001b[0m: Adding directory to artifact (.\\models-initial)... Done. 0.1s\n"
     ]
    },
    {
     "name": "stdout",
     "output_type": "stream",
     "text": [
      "28/28 [==============================] - 22s 675ms/step - loss: 0.6427 - accuracy: 0.8550 - precision_4: 0.0230 - recall_4: 0.1096 - auc_4: 0.4821\n"
     ]
    }
   ],
   "source": [
    "history = model.fit(x=[train.product_id, train.user_id, train], y=train.purchased,\n",
    "                    # validation_data=([test.product_id, test.user_id], test.purchased),\n",
    "                    batch_size=8192,\n",
    "                    epochs=1,\n",
    "                    callbacks=[\n",
    "                      WandbMetricsLogger(log_freq='batch'),\n",
    "                      WandbModelCheckpoint(\"models-initial\")\n",
    "                    ])"
   ]
  },
  {
   "cell_type": "code",
   "execution_count": 41,
   "id": "430593c3-0b41-4f9b-b49a-a239d997d833",
   "metadata": {},
   "outputs": [
    {
     "data": {
      "text/plain": [
       "0         1000978\n",
       "1         1001588\n",
       "2         1002042\n",
       "3         1002062\n",
       "4         1002098\n",
       "           ...   \n",
       "52225    60400001\n",
       "52226    60400002\n",
       "52227    60500001\n",
       "52228    60500002\n",
       "52229    60500007\n",
       "Name: product_id, Length: 52230, dtype: int64"
      ]
     },
     "execution_count": 41,
     "metadata": {},
     "output_type": "execute_result"
    }
   ],
   "source": [
    "product_details.product_id"
   ]
  },
  {
   "cell_type": "code",
   "execution_count": 42,
   "id": "d4f789f4-8c18-467e-ad89-cc7639db1165",
   "metadata": {},
   "outputs": [
    {
     "data": {
      "text/html": [
       "<div>\n",
       "<style scoped>\n",
       "    .dataframe tbody tr th:only-of-type {\n",
       "        vertical-align: middle;\n",
       "    }\n",
       "\n",
       "    .dataframe tbody tr th {\n",
       "        vertical-align: top;\n",
       "    }\n",
       "\n",
       "    .dataframe thead th {\n",
       "        text-align: right;\n",
       "    }\n",
       "</style>\n",
       "<table border=\"1\" class=\"dataframe\">\n",
       "  <thead>\n",
       "    <tr style=\"text-align: right;\">\n",
       "      <th></th>\n",
       "      <th>user_id</th>\n",
       "      <th>product_id</th>\n",
       "      <th>purchased</th>\n",
       "    </tr>\n",
       "  </thead>\n",
       "  <tbody>\n",
       "    <tr>\n",
       "      <th>86185</th>\n",
       "      <td>513516059</td>\n",
       "      <td>2502251</td>\n",
       "      <td>0</td>\n",
       "    </tr>\n",
       "    <tr>\n",
       "      <th>56846</th>\n",
       "      <td>515404062</td>\n",
       "      <td>1005130</td>\n",
       "      <td>0</td>\n",
       "    </tr>\n",
       "    <tr>\n",
       "      <th>229374</th>\n",
       "      <td>521171983</td>\n",
       "      <td>26400322</td>\n",
       "      <td>0</td>\n",
       "    </tr>\n",
       "    <tr>\n",
       "      <th>17039</th>\n",
       "      <td>541477419</td>\n",
       "      <td>1004321</td>\n",
       "      <td>0</td>\n",
       "    </tr>\n",
       "    <tr>\n",
       "      <th>127904</th>\n",
       "      <td>517236730</td>\n",
       "      <td>5700518</td>\n",
       "      <td>0</td>\n",
       "    </tr>\n",
       "    <tr>\n",
       "      <th>...</th>\n",
       "      <td>...</td>\n",
       "      <td>...</td>\n",
       "      <td>...</td>\n",
       "    </tr>\n",
       "    <tr>\n",
       "      <th>39582</th>\n",
       "      <td>514994590</td>\n",
       "      <td>1004872</td>\n",
       "      <td>0</td>\n",
       "    </tr>\n",
       "    <tr>\n",
       "      <th>237911</th>\n",
       "      <td>513055643</td>\n",
       "      <td>27200898</td>\n",
       "      <td>0</td>\n",
       "    </tr>\n",
       "    <tr>\n",
       "      <th>193281</th>\n",
       "      <td>521129853</td>\n",
       "      <td>16300056</td>\n",
       "      <td>0</td>\n",
       "    </tr>\n",
       "    <tr>\n",
       "      <th>222197</th>\n",
       "      <td>543426950</td>\n",
       "      <td>26026616</td>\n",
       "      <td>0</td>\n",
       "    </tr>\n",
       "    <tr>\n",
       "      <th>211614</th>\n",
       "      <td>526858226</td>\n",
       "      <td>22400036</td>\n",
       "      <td>0</td>\n",
       "    </tr>\n",
       "  </tbody>\n",
       "</table>\n",
       "<p>221408 rows × 3 columns</p>\n",
       "</div>"
      ],
      "text/plain": [
       "          user_id  product_id  purchased\n",
       "86185   513516059     2502251          0\n",
       "56846   515404062     1005130          0\n",
       "229374  521171983    26400322          0\n",
       "17039   541477419     1004321          0\n",
       "127904  517236730     5700518          0\n",
       "...           ...         ...        ...\n",
       "39582   514994590     1004872          0\n",
       "237911  513055643    27200898          0\n",
       "193281  521129853    16300056          0\n",
       "222197  543426950    26026616          0\n",
       "211614  526858226    22400036          0\n",
       "\n",
       "[221408 rows x 3 columns]"
      ]
     },
     "execution_count": 42,
     "metadata": {},
     "output_type": "execute_result"
    }
   ],
   "source": [
    "train"
   ]
  },
  {
   "cell_type": "code",
   "execution_count": 43,
   "id": "2cbe37af-5c59-43b0-861d-4aa2e8de98d1",
   "metadata": {},
   "outputs": [
    {
     "data": {
      "text/plain": [
       "<tf.Tensor: shape=(221408, 1), dtype=float32, numpy=\n",
       "array([[0.429234  ],\n",
       "       [0.4289977 ],\n",
       "       [0.43829143],\n",
       "       ...,\n",
       "       [0.4374629 ],\n",
       "       [0.44199833],\n",
       "       [0.42670414]], dtype=float32)>"
      ]
     },
     "execution_count": 43,
     "metadata": {},
     "output_type": "execute_result"
    }
   ],
   "source": [
    "model((train['product_id'], train['user_id']))"
   ]
  },
  {
   "cell_type": "code",
   "execution_count": 44,
   "id": "2b6c9c0b-f2ef-49f3-b9a0-ea868ccb3236",
   "metadata": {},
   "outputs": [],
   "source": [
    "def get_recommendation(user_id, products=product_details, model=model):\n",
    "    products = products.copy()\n",
    "    user_ids = [user_id] * len(products)\n",
    "\n",
    "    input_ = pd.DataFrame({'product_id': list(products.product_id.unique()), 'user_id': user_ids})\n",
    "    results = model((input_['product_id'], input_['user_id'])).numpy().reshape(-1)\n",
    "    # results = model([products, user_ids]).numpy().reshape(-1)\n",
    "    \n",
    "    products['purchase_proba'] = pd.Series(results, index=products.index)\n",
    "    products = products.sort_values('purchase_proba', ascending=False)\n",
    "    \n",
    "    return products"
   ]
  },
  {
   "cell_type": "code",
   "execution_count": 45,
   "id": "5e8731d4-ef7a-4dd8-9098-8a1c7484ae33",
   "metadata": {},
   "outputs": [
    {
     "data": {
      "text/html": [
       "<div>\n",
       "<style scoped>\n",
       "    .dataframe tbody tr th:only-of-type {\n",
       "        vertical-align: middle;\n",
       "    }\n",
       "\n",
       "    .dataframe tbody tr th {\n",
       "        vertical-align: top;\n",
       "    }\n",
       "\n",
       "    .dataframe thead th {\n",
       "        text-align: right;\n",
       "    }\n",
       "</style>\n",
       "<table border=\"1\" class=\"dataframe\">\n",
       "  <thead>\n",
       "    <tr style=\"text-align: right;\">\n",
       "      <th></th>\n",
       "      <th>user_id</th>\n",
       "      <th>product_id</th>\n",
       "      <th>purchased</th>\n",
       "    </tr>\n",
       "  </thead>\n",
       "  <tbody>\n",
       "    <tr>\n",
       "      <th>86185</th>\n",
       "      <td>513516059</td>\n",
       "      <td>2502251</td>\n",
       "      <td>0</td>\n",
       "    </tr>\n",
       "    <tr>\n",
       "      <th>56846</th>\n",
       "      <td>515404062</td>\n",
       "      <td>1005130</td>\n",
       "      <td>0</td>\n",
       "    </tr>\n",
       "    <tr>\n",
       "      <th>229374</th>\n",
       "      <td>521171983</td>\n",
       "      <td>26400322</td>\n",
       "      <td>0</td>\n",
       "    </tr>\n",
       "    <tr>\n",
       "      <th>17039</th>\n",
       "      <td>541477419</td>\n",
       "      <td>1004321</td>\n",
       "      <td>0</td>\n",
       "    </tr>\n",
       "    <tr>\n",
       "      <th>127904</th>\n",
       "      <td>517236730</td>\n",
       "      <td>5700518</td>\n",
       "      <td>0</td>\n",
       "    </tr>\n",
       "    <tr>\n",
       "      <th>...</th>\n",
       "      <td>...</td>\n",
       "      <td>...</td>\n",
       "      <td>...</td>\n",
       "    </tr>\n",
       "    <tr>\n",
       "      <th>39582</th>\n",
       "      <td>514994590</td>\n",
       "      <td>1004872</td>\n",
       "      <td>0</td>\n",
       "    </tr>\n",
       "    <tr>\n",
       "      <th>237911</th>\n",
       "      <td>513055643</td>\n",
       "      <td>27200898</td>\n",
       "      <td>0</td>\n",
       "    </tr>\n",
       "    <tr>\n",
       "      <th>193281</th>\n",
       "      <td>521129853</td>\n",
       "      <td>16300056</td>\n",
       "      <td>0</td>\n",
       "    </tr>\n",
       "    <tr>\n",
       "      <th>222197</th>\n",
       "      <td>543426950</td>\n",
       "      <td>26026616</td>\n",
       "      <td>0</td>\n",
       "    </tr>\n",
       "    <tr>\n",
       "      <th>211614</th>\n",
       "      <td>526858226</td>\n",
       "      <td>22400036</td>\n",
       "      <td>0</td>\n",
       "    </tr>\n",
       "  </tbody>\n",
       "</table>\n",
       "<p>221408 rows × 3 columns</p>\n",
       "</div>"
      ],
      "text/plain": [
       "          user_id  product_id  purchased\n",
       "86185   513516059     2502251          0\n",
       "56846   515404062     1005130          0\n",
       "229374  521171983    26400322          0\n",
       "17039   541477419     1004321          0\n",
       "127904  517236730     5700518          0\n",
       "...           ...         ...        ...\n",
       "39582   514994590     1004872          0\n",
       "237911  513055643    27200898          0\n",
       "193281  521129853    16300056          0\n",
       "222197  543426950    26026616          0\n",
       "211614  526858226    22400036          0\n",
       "\n",
       "[221408 rows x 3 columns]"
      ]
     },
     "execution_count": 45,
     "metadata": {},
     "output_type": "execute_result"
    }
   ],
   "source": [
    "train"
   ]
  },
  {
   "cell_type": "code",
   "execution_count": 46,
   "id": "07bd8752-fab2-447a-b93e-0660cdaa35c5",
   "metadata": {},
   "outputs": [
    {
     "data": {
      "text/html": [
       "<div>\n",
       "<style scoped>\n",
       "    .dataframe tbody tr th:only-of-type {\n",
       "        vertical-align: middle;\n",
       "    }\n",
       "\n",
       "    .dataframe tbody tr th {\n",
       "        vertical-align: top;\n",
       "    }\n",
       "\n",
       "    .dataframe thead th {\n",
       "        text-align: right;\n",
       "    }\n",
       "</style>\n",
       "<table border=\"1\" class=\"dataframe\">\n",
       "  <thead>\n",
       "    <tr style=\"text-align: right;\">\n",
       "      <th></th>\n",
       "      <th>product_id</th>\n",
       "      <th>category_id</th>\n",
       "      <th>price</th>\n",
       "      <th>purchase_proba</th>\n",
       "    </tr>\n",
       "  </thead>\n",
       "  <tbody>\n",
       "    <tr>\n",
       "      <th>35607</th>\n",
       "      <td>26010220</td>\n",
       "      <td>2053013562611204913</td>\n",
       "      <td>2.17</td>\n",
       "      <td>0.456800</td>\n",
       "    </tr>\n",
       "    <tr>\n",
       "      <th>15899</th>\n",
       "      <td>10201198</td>\n",
       "      <td>2053013553224352013</td>\n",
       "      <td>34.75</td>\n",
       "      <td>0.456493</td>\n",
       "    </tr>\n",
       "    <tr>\n",
       "      <th>42235</th>\n",
       "      <td>28711871</td>\n",
       "      <td>2053013565782098913</td>\n",
       "      <td>70.01</td>\n",
       "      <td>0.456174</td>\n",
       "    </tr>\n",
       "    <tr>\n",
       "      <th>15964</th>\n",
       "      <td>10201721</td>\n",
       "      <td>2053013553224352013</td>\n",
       "      <td>16.73</td>\n",
       "      <td>0.455262</td>\n",
       "    </tr>\n",
       "    <tr>\n",
       "      <th>23352</th>\n",
       "      <td>13300023</td>\n",
       "      <td>2053013557166998015</td>\n",
       "      <td>489.59</td>\n",
       "      <td>0.455251</td>\n",
       "    </tr>\n",
       "    <tr>\n",
       "      <th>41829</th>\n",
       "      <td>28703783</td>\n",
       "      <td>2053013565069067197</td>\n",
       "      <td>61.57</td>\n",
       "      <td>0.455153</td>\n",
       "    </tr>\n",
       "    <tr>\n",
       "      <th>39319</th>\n",
       "      <td>26500473</td>\n",
       "      <td>2053013563550729061</td>\n",
       "      <td>386.18</td>\n",
       "      <td>0.454661</td>\n",
       "    </tr>\n",
       "    <tr>\n",
       "      <th>1527</th>\n",
       "      <td>1306695</td>\n",
       "      <td>2053013558920217191</td>\n",
       "      <td>587.00</td>\n",
       "      <td>0.454618</td>\n",
       "    </tr>\n",
       "    <tr>\n",
       "      <th>29739</th>\n",
       "      <td>18301069</td>\n",
       "      <td>2053013558945383017</td>\n",
       "      <td>12.99</td>\n",
       "      <td>0.454603</td>\n",
       "    </tr>\n",
       "    <tr>\n",
       "      <th>34877</th>\n",
       "      <td>25400011</td>\n",
       "      <td>2053013561604571899</td>\n",
       "      <td>23.50</td>\n",
       "      <td>0.454537</td>\n",
       "    </tr>\n",
       "  </tbody>\n",
       "</table>\n",
       "</div>"
      ],
      "text/plain": [
       "       product_id          category_id   price  purchase_proba\n",
       "35607    26010220  2053013562611204913    2.17        0.456800\n",
       "15899    10201198  2053013553224352013   34.75        0.456493\n",
       "42235    28711871  2053013565782098913   70.01        0.456174\n",
       "15964    10201721  2053013553224352013   16.73        0.455262\n",
       "23352    13300023  2053013557166998015  489.59        0.455251\n",
       "41829    28703783  2053013565069067197   61.57        0.455153\n",
       "39319    26500473  2053013563550729061  386.18        0.454661\n",
       "1527      1306695  2053013558920217191  587.00        0.454618\n",
       "29739    18301069  2053013558945383017   12.99        0.454603\n",
       "34877    25400011  2053013561604571899   23.50        0.454537"
      ]
     },
     "execution_count": 46,
     "metadata": {},
     "output_type": "execute_result"
    }
   ],
   "source": [
    "get_recommendation(514080134).head(10)"
   ]
  },
  {
   "cell_type": "code",
   "execution_count": 47,
   "id": "57a31014-a07b-4253-a9da-72a85545a66d",
   "metadata": {},
   "outputs": [
    {
     "data": {
      "text/html": [
       "<div>\n",
       "<style scoped>\n",
       "    .dataframe tbody tr th:only-of-type {\n",
       "        vertical-align: middle;\n",
       "    }\n",
       "\n",
       "    .dataframe tbody tr th {\n",
       "        vertical-align: top;\n",
       "    }\n",
       "\n",
       "    .dataframe thead th {\n",
       "        text-align: right;\n",
       "    }\n",
       "</style>\n",
       "<table border=\"1\" class=\"dataframe\">\n",
       "  <thead>\n",
       "    <tr style=\"text-align: right;\">\n",
       "      <th></th>\n",
       "      <th>product_id</th>\n",
       "      <th>category_id</th>\n",
       "      <th>price</th>\n",
       "      <th>purchase_proba</th>\n",
       "    </tr>\n",
       "  </thead>\n",
       "  <tbody>\n",
       "    <tr>\n",
       "      <th>35607</th>\n",
       "      <td>26010220</td>\n",
       "      <td>2053013562611204913</td>\n",
       "      <td>2.17</td>\n",
       "      <td>0.466507</td>\n",
       "    </tr>\n",
       "    <tr>\n",
       "      <th>42235</th>\n",
       "      <td>28711871</td>\n",
       "      <td>2053013565782098913</td>\n",
       "      <td>70.01</td>\n",
       "      <td>0.466010</td>\n",
       "    </tr>\n",
       "    <tr>\n",
       "      <th>15899</th>\n",
       "      <td>10201198</td>\n",
       "      <td>2053013553224352013</td>\n",
       "      <td>34.75</td>\n",
       "      <td>0.465975</td>\n",
       "    </tr>\n",
       "    <tr>\n",
       "      <th>23352</th>\n",
       "      <td>13300023</td>\n",
       "      <td>2053013557166998015</td>\n",
       "      <td>489.59</td>\n",
       "      <td>0.464944</td>\n",
       "    </tr>\n",
       "    <tr>\n",
       "      <th>41829</th>\n",
       "      <td>28703783</td>\n",
       "      <td>2053013565069067197</td>\n",
       "      <td>61.57</td>\n",
       "      <td>0.464755</td>\n",
       "    </tr>\n",
       "    <tr>\n",
       "      <th>15964</th>\n",
       "      <td>10201721</td>\n",
       "      <td>2053013553224352013</td>\n",
       "      <td>16.73</td>\n",
       "      <td>0.464593</td>\n",
       "    </tr>\n",
       "    <tr>\n",
       "      <th>1527</th>\n",
       "      <td>1306695</td>\n",
       "      <td>2053013558920217191</td>\n",
       "      <td>587.00</td>\n",
       "      <td>0.464422</td>\n",
       "    </tr>\n",
       "    <tr>\n",
       "      <th>46024</th>\n",
       "      <td>31000511</td>\n",
       "      <td>2055156924315337497</td>\n",
       "      <td>669.15</td>\n",
       "      <td>0.464366</td>\n",
       "    </tr>\n",
       "    <tr>\n",
       "      <th>34276</th>\n",
       "      <td>24100153</td>\n",
       "      <td>2053013563307459413</td>\n",
       "      <td>5.54</td>\n",
       "      <td>0.464316</td>\n",
       "    </tr>\n",
       "    <tr>\n",
       "      <th>29739</th>\n",
       "      <td>18301069</td>\n",
       "      <td>2053013558945383017</td>\n",
       "      <td>12.99</td>\n",
       "      <td>0.464113</td>\n",
       "    </tr>\n",
       "  </tbody>\n",
       "</table>\n",
       "</div>"
      ],
      "text/plain": [
       "       product_id          category_id   price  purchase_proba\n",
       "35607    26010220  2053013562611204913    2.17        0.466507\n",
       "42235    28711871  2053013565782098913   70.01        0.466010\n",
       "15899    10201198  2053013553224352013   34.75        0.465975\n",
       "23352    13300023  2053013557166998015  489.59        0.464944\n",
       "41829    28703783  2053013565069067197   61.57        0.464755\n",
       "15964    10201721  2053013553224352013   16.73        0.464593\n",
       "1527      1306695  2053013558920217191  587.00        0.464422\n",
       "46024    31000511  2055156924315337497  669.15        0.464366\n",
       "34276    24100153  2053013563307459413    5.54        0.464316\n",
       "29739    18301069  2053013558945383017   12.99        0.464113"
      ]
     },
     "execution_count": 47,
     "metadata": {},
     "output_type": "execute_result"
    }
   ],
   "source": [
    "get_recommendation(513457523).head(10)"
   ]
  },
  {
   "cell_type": "markdown",
   "id": "80ffc89f-474f-49a3-8413-8f834ac464c5",
   "metadata": {},
   "source": [
    "# Save and Load Model"
   ]
  },
  {
   "cell_type": "code",
   "execution_count": 382,
   "id": "eb13a101-8cf8-4f27-93d3-d438a9c42100",
   "metadata": {},
   "outputs": [],
   "source": [
    "model.save_weights('model.h5')"
   ]
  },
  {
   "cell_type": "code",
   "execution_count": 383,
   "id": "6663ca11-0939-4100-9a05-9fa020861257",
   "metadata": {},
   "outputs": [],
   "source": [
    "\n",
    "model_load = Model([product_input, user_input], [output])\n",
    "model_load.load_weights('model.h5')"
   ]
  },
  {
   "cell_type": "code",
   "execution_count": 384,
   "id": "2d2e2883-b133-4201-a1e9-63677c0f783b",
   "metadata": {},
   "outputs": [
    {
     "data": {
      "text/html": [
       "<div>\n",
       "<style scoped>\n",
       "    .dataframe tbody tr th:only-of-type {\n",
       "        vertical-align: middle;\n",
       "    }\n",
       "\n",
       "    .dataframe tbody tr th {\n",
       "        vertical-align: top;\n",
       "    }\n",
       "\n",
       "    .dataframe thead th {\n",
       "        text-align: right;\n",
       "    }\n",
       "</style>\n",
       "<table border=\"1\" class=\"dataframe\">\n",
       "  <thead>\n",
       "    <tr style=\"text-align: right;\">\n",
       "      <th></th>\n",
       "      <th>product_id</th>\n",
       "      <th>category_id</th>\n",
       "      <th>price</th>\n",
       "      <th>purchase_proba</th>\n",
       "    </tr>\n",
       "  </thead>\n",
       "  <tbody>\n",
       "    <tr>\n",
       "      <th>4038</th>\n",
       "      <td>2601810</td>\n",
       "      <td>2053013563970159485</td>\n",
       "      <td>155.259458</td>\n",
       "      <td>0.181332</td>\n",
       "    </tr>\n",
       "    <tr>\n",
       "      <th>6904</th>\n",
       "      <td>4100346</td>\n",
       "      <td>2053013561218695907</td>\n",
       "      <td>392.809650</td>\n",
       "      <td>0.171076</td>\n",
       "    </tr>\n",
       "    <tr>\n",
       "      <th>703</th>\n",
       "      <td>1004863</td>\n",
       "      <td>2053013555631882655</td>\n",
       "      <td>173.004043</td>\n",
       "      <td>0.163775</td>\n",
       "    </tr>\n",
       "    <tr>\n",
       "      <th>4750</th>\n",
       "      <td>2800476</td>\n",
       "      <td>2053013563835941749</td>\n",
       "      <td>172.080000</td>\n",
       "      <td>0.157953</td>\n",
       "    </tr>\n",
       "    <tr>\n",
       "      <th>378</th>\n",
       "      <td>1004246</td>\n",
       "      <td>2053013555631882655</td>\n",
       "      <td>743.151695</td>\n",
       "      <td>0.151674</td>\n",
       "    </tr>\n",
       "    <tr>\n",
       "      <th>563</th>\n",
       "      <td>1004659</td>\n",
       "      <td>2053013555631882655</td>\n",
       "      <td>738.926172</td>\n",
       "      <td>0.143953</td>\n",
       "    </tr>\n",
       "    <tr>\n",
       "      <th>20240</th>\n",
       "      <td>12706258</td>\n",
       "      <td>2053013553559896355</td>\n",
       "      <td>60.230000</td>\n",
       "      <td>0.134912</td>\n",
       "    </tr>\n",
       "    <tr>\n",
       "      <th>700</th>\n",
       "      <td>1004856</td>\n",
       "      <td>2053013555631882655</td>\n",
       "      <td>131.142246</td>\n",
       "      <td>0.119333</td>\n",
       "    </tr>\n",
       "    <tr>\n",
       "      <th>381</th>\n",
       "      <td>1004249</td>\n",
       "      <td>2053013555631882655</td>\n",
       "      <td>739.568116</td>\n",
       "      <td>0.095927</td>\n",
       "    </tr>\n",
       "    <tr>\n",
       "      <th>24652</th>\n",
       "      <td>14700050</td>\n",
       "      <td>2053013557133443581</td>\n",
       "      <td>182.665000</td>\n",
       "      <td>0.093026</td>\n",
       "    </tr>\n",
       "  </tbody>\n",
       "</table>\n",
       "</div>"
      ],
      "text/plain": [
       "       product_id          category_id       price  purchase_proba\n",
       "4038      2601810  2053013563970159485  155.259458        0.181332\n",
       "6904      4100346  2053013561218695907  392.809650        0.171076\n",
       "703       1004863  2053013555631882655  173.004043        0.163775\n",
       "4750      2800476  2053013563835941749  172.080000        0.157953\n",
       "378       1004246  2053013555631882655  743.151695        0.151674\n",
       "563       1004659  2053013555631882655  738.926172        0.143953\n",
       "20240    12706258  2053013553559896355   60.230000        0.134912\n",
       "700       1004856  2053013555631882655  131.142246        0.119333\n",
       "381       1004249  2053013555631882655  739.568116        0.095927\n",
       "24652    14700050  2053013557133443581  182.665000        0.093026"
      ]
     },
     "execution_count": 384,
     "metadata": {},
     "output_type": "execute_result"
    }
   ],
   "source": [
    "get_recommendation(541312140, model=model_load).head(10)"
   ]
  },
  {
   "cell_type": "code",
   "execution_count": 385,
   "id": "1eaf51be-1b95-419c-8d9f-7c857e9a8347",
   "metadata": {},
   "outputs": [
    {
     "data": {
      "text/html": [
       "<div>\n",
       "<style scoped>\n",
       "    .dataframe tbody tr th:only-of-type {\n",
       "        vertical-align: middle;\n",
       "    }\n",
       "\n",
       "    .dataframe tbody tr th {\n",
       "        vertical-align: top;\n",
       "    }\n",
       "\n",
       "    .dataframe thead th {\n",
       "        text-align: right;\n",
       "    }\n",
       "</style>\n",
       "<table border=\"1\" class=\"dataframe\">\n",
       "  <thead>\n",
       "    <tr style=\"text-align: right;\">\n",
       "      <th></th>\n",
       "      <th>product_id</th>\n",
       "      <th>category_id</th>\n",
       "      <th>price</th>\n",
       "      <th>purchase_proba</th>\n",
       "    </tr>\n",
       "  </thead>\n",
       "  <tbody>\n",
       "    <tr>\n",
       "      <th>6904</th>\n",
       "      <td>4100346</td>\n",
       "      <td>2053013561218695907</td>\n",
       "      <td>392.809650</td>\n",
       "      <td>0.218746</td>\n",
       "    </tr>\n",
       "    <tr>\n",
       "      <th>4038</th>\n",
       "      <td>2601810</td>\n",
       "      <td>2053013563970159485</td>\n",
       "      <td>155.259458</td>\n",
       "      <td>0.213689</td>\n",
       "    </tr>\n",
       "    <tr>\n",
       "      <th>703</th>\n",
       "      <td>1004863</td>\n",
       "      <td>2053013555631882655</td>\n",
       "      <td>173.004043</td>\n",
       "      <td>0.194762</td>\n",
       "    </tr>\n",
       "    <tr>\n",
       "      <th>378</th>\n",
       "      <td>1004246</td>\n",
       "      <td>2053013555631882655</td>\n",
       "      <td>743.151695</td>\n",
       "      <td>0.171427</td>\n",
       "    </tr>\n",
       "    <tr>\n",
       "      <th>563</th>\n",
       "      <td>1004659</td>\n",
       "      <td>2053013555631882655</td>\n",
       "      <td>738.926172</td>\n",
       "      <td>0.168789</td>\n",
       "    </tr>\n",
       "    <tr>\n",
       "      <th>700</th>\n",
       "      <td>1004856</td>\n",
       "      <td>2053013555631882655</td>\n",
       "      <td>131.142246</td>\n",
       "      <td>0.167703</td>\n",
       "    </tr>\n",
       "    <tr>\n",
       "      <th>4750</th>\n",
       "      <td>2800476</td>\n",
       "      <td>2053013563835941749</td>\n",
       "      <td>172.080000</td>\n",
       "      <td>0.167442</td>\n",
       "    </tr>\n",
       "    <tr>\n",
       "      <th>20240</th>\n",
       "      <td>12706258</td>\n",
       "      <td>2053013553559896355</td>\n",
       "      <td>60.230000</td>\n",
       "      <td>0.160695</td>\n",
       "    </tr>\n",
       "    <tr>\n",
       "      <th>381</th>\n",
       "      <td>1004249</td>\n",
       "      <td>2053013555631882655</td>\n",
       "      <td>739.568116</td>\n",
       "      <td>0.126330</td>\n",
       "    </tr>\n",
       "    <tr>\n",
       "      <th>684</th>\n",
       "      <td>1004838</td>\n",
       "      <td>2053013555631882655</td>\n",
       "      <td>174.748446</td>\n",
       "      <td>0.120576</td>\n",
       "    </tr>\n",
       "  </tbody>\n",
       "</table>\n",
       "</div>"
      ],
      "text/plain": [
       "       product_id          category_id       price  purchase_proba\n",
       "6904      4100346  2053013561218695907  392.809650        0.218746\n",
       "4038      2601810  2053013563970159485  155.259458        0.213689\n",
       "703       1004863  2053013555631882655  173.004043        0.194762\n",
       "378       1004246  2053013555631882655  743.151695        0.171427\n",
       "563       1004659  2053013555631882655  738.926172        0.168789\n",
       "700       1004856  2053013555631882655  131.142246        0.167703\n",
       "4750      2800476  2053013563835941749  172.080000        0.167442\n",
       "20240    12706258  2053013553559896355   60.230000        0.160695\n",
       "381       1004249  2053013555631882655  739.568116        0.126330\n",
       "684       1004838  2053013555631882655  174.748446        0.120576"
      ]
     },
     "execution_count": 385,
     "metadata": {},
     "output_type": "execute_result"
    }
   ],
   "source": [
    "get_recommendation(550050854, model=model_load).head(10)"
   ]
  },
  {
   "cell_type": "code",
   "execution_count": 386,
   "id": "7a4f22dc-852d-457e-87d4-6fb000306414",
   "metadata": {},
   "outputs": [
    {
     "data": {
      "text/html": [
       "<div>\n",
       "<style scoped>\n",
       "    .dataframe tbody tr th:only-of-type {\n",
       "        vertical-align: middle;\n",
       "    }\n",
       "\n",
       "    .dataframe tbody tr th {\n",
       "        vertical-align: top;\n",
       "    }\n",
       "\n",
       "    .dataframe thead th {\n",
       "        text-align: right;\n",
       "    }\n",
       "</style>\n",
       "<table border=\"1\" class=\"dataframe\">\n",
       "  <thead>\n",
       "    <tr style=\"text-align: right;\">\n",
       "      <th></th>\n",
       "      <th>product_id</th>\n",
       "      <th>category_id</th>\n",
       "      <th>price</th>\n",
       "      <th>purchase_proba</th>\n",
       "    </tr>\n",
       "  </thead>\n",
       "  <tbody>\n",
       "    <tr>\n",
       "      <th>847</th>\n",
       "      <td>1005074</td>\n",
       "      <td>2053013555631882655</td>\n",
       "      <td>1188.910128</td>\n",
       "      <td>0.174015</td>\n",
       "    </tr>\n",
       "    <tr>\n",
       "      <th>916</th>\n",
       "      <td>1005144</td>\n",
       "      <td>2053013555631882655</td>\n",
       "      <td>1720.407530</td>\n",
       "      <td>0.170057</td>\n",
       "    </tr>\n",
       "    <tr>\n",
       "      <th>22811</th>\n",
       "      <td>13103656</td>\n",
       "      <td>2053013553526341921</td>\n",
       "      <td>270.280000</td>\n",
       "      <td>0.164640</td>\n",
       "    </tr>\n",
       "    <tr>\n",
       "      <th>41300</th>\n",
       "      <td>28300432</td>\n",
       "      <td>2053013566243472379</td>\n",
       "      <td>46.330000</td>\n",
       "      <td>0.131460</td>\n",
       "    </tr>\n",
       "    <tr>\n",
       "      <th>19296</th>\n",
       "      <td>12700716</td>\n",
       "      <td>2053013553559896355</td>\n",
       "      <td>40.930000</td>\n",
       "      <td>0.122681</td>\n",
       "    </tr>\n",
       "    <tr>\n",
       "      <th>...</th>\n",
       "      <td>...</td>\n",
       "      <td>...</td>\n",
       "      <td>...</td>\n",
       "      <td>...</td>\n",
       "    </tr>\n",
       "    <tr>\n",
       "      <th>787</th>\n",
       "      <td>1004990</td>\n",
       "      <td>2053013555631882655</td>\n",
       "      <td>253.171459</td>\n",
       "      <td>0.001422</td>\n",
       "    </tr>\n",
       "    <tr>\n",
       "      <th>8883</th>\n",
       "      <td>5100551</td>\n",
       "      <td>2053013553341792533</td>\n",
       "      <td>166.080331</td>\n",
       "      <td>0.001417</td>\n",
       "    </tr>\n",
       "    <tr>\n",
       "      <th>12705</th>\n",
       "      <td>7005394</td>\n",
       "      <td>2053013560346280633</td>\n",
       "      <td>163.883901</td>\n",
       "      <td>0.001398</td>\n",
       "    </tr>\n",
       "    <tr>\n",
       "      <th>757</th>\n",
       "      <td>1004946</td>\n",
       "      <td>2053013555631882655</td>\n",
       "      <td>738.895365</td>\n",
       "      <td>0.001359</td>\n",
       "    </tr>\n",
       "    <tr>\n",
       "      <th>842</th>\n",
       "      <td>1005069</td>\n",
       "      <td>2053013555631882655</td>\n",
       "      <td>301.907003</td>\n",
       "      <td>0.001194</td>\n",
       "    </tr>\n",
       "  </tbody>\n",
       "</table>\n",
       "<p>52230 rows × 4 columns</p>\n",
       "</div>"
      ],
      "text/plain": [
       "       product_id          category_id        price  purchase_proba\n",
       "847       1005074  2053013555631882655  1188.910128        0.174015\n",
       "916       1005144  2053013555631882655  1720.407530        0.170057\n",
       "22811    13103656  2053013553526341921   270.280000        0.164640\n",
       "41300    28300432  2053013566243472379    46.330000        0.131460\n",
       "19296    12700716  2053013553559896355    40.930000        0.122681\n",
       "...           ...                  ...          ...             ...\n",
       "787       1004990  2053013555631882655   253.171459        0.001422\n",
       "8883      5100551  2053013553341792533   166.080331        0.001417\n",
       "12705     7005394  2053013560346280633   163.883901        0.001398\n",
       "757       1004946  2053013555631882655   738.895365        0.001359\n",
       "842       1005069  2053013555631882655   301.907003        0.001194\n",
       "\n",
       "[52230 rows x 4 columns]"
      ]
     },
     "execution_count": 386,
     "metadata": {},
     "output_type": "execute_result"
    }
   ],
   "source": [
    "get_recommendation(0, model=model_load)"
   ]
  },
  {
   "cell_type": "code",
   "execution_count": null,
   "id": "40288fc7-44de-4933-9dc3-de5d9443f7f8",
   "metadata": {},
   "outputs": [],
   "source": []
  }
 ],
 "metadata": {
  "kernelspec": {
   "display_name": "Python 3 (ipykernel)",
   "language": "python",
   "name": "python3"
  },
  "language_info": {
   "codemirror_mode": {
    "name": "ipython",
    "version": 3
   },
   "file_extension": ".py",
   "mimetype": "text/x-python",
   "name": "python",
   "nbconvert_exporter": "python",
   "pygments_lexer": "ipython3",
   "version": "3.9.0"
  }
 },
 "nbformat": 4,
 "nbformat_minor": 5
}
